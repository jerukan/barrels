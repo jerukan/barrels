{
 "cells": [
  {
   "cell_type": "markdown",
   "metadata": {},
   "source": [
    "# color estimation thing"
   ]
  },
  {
   "cell_type": "code",
   "execution_count": null,
   "metadata": {},
   "outputs": [],
   "source": [
    "import drjit as dr\n",
    "import mitsuba as mi\n",
    "\n",
    "mi.set_variant(\"llvm_ad_rgb\")"
   ]
  },
  {
   "cell_type": "code",
   "execution_count": null,
   "metadata": {},
   "outputs": [],
   "source": [
    "scene = mi.load_file(\"scenes/cbox.xml\", res=128, integrator=\"prb\")\n",
    "\n",
    "image_ref = mi.render(scene, spp=512)\n",
    "\n",
    "# Preview the reference image\n",
    "mi.util.convert_to_bitmap(image_ref)"
   ]
  },
  {
   "cell_type": "code",
   "execution_count": null,
   "metadata": {},
   "outputs": [],
   "source": [
    "params = mi.traverse(scene)\n",
    "\n",
    "key = 'red.reflectance.value'\n",
    "\n",
    "# Save the original value\n",
    "param_ref = mi.Color3f(params[key])\n",
    "\n",
    "# Set another color value and update the scene\n",
    "params[key] = mi.Color3f(0.01, 0.2, 0.9)\n",
    "params.update()"
   ]
  },
  {
   "cell_type": "code",
   "execution_count": null,
   "metadata": {},
   "outputs": [],
   "source": [
    "image_init = mi.render(scene, spp=128)\n",
    "mi.util.convert_to_bitmap(image_init)"
   ]
  },
  {
   "cell_type": "code",
   "execution_count": null,
   "metadata": {},
   "outputs": [],
   "source": [
    "opt = mi.ad.Adam(lr=0.05)\n",
    "opt[key] = params[key]\n",
    "params.update(opt)"
   ]
  },
  {
   "cell_type": "code",
   "execution_count": null,
   "metadata": {},
   "outputs": [],
   "source": [
    "def mse(image):\n",
    "    return dr.mean(dr.sqr(image - image_ref))\n",
    "\n",
    "iteration_count = 50"
   ]
  },
  {
   "cell_type": "code",
   "execution_count": null,
   "metadata": {},
   "outputs": [],
   "source": [
    "errors = []\n",
    "for it in range(iteration_count):\n",
    "    # Perform a (noisy) differentiable rendering of the scene\n",
    "    image = mi.render(scene, params, spp=4)\n",
    "\n",
    "    # Evaluate the objective function from the current rendered image\n",
    "    loss = mse(image)\n",
    "\n",
    "    # Backpropagate through the rendering process\n",
    "    dr.backward(loss)\n",
    "\n",
    "    # Optimizer: take a gradient descent step\n",
    "    opt.step()\n",
    "\n",
    "    # Post-process the optimized parameters to ensure legal color values.\n",
    "    opt[key] = dr.clamp(opt[key], 0.0, 1.0)\n",
    "\n",
    "    # Update the scene state to the new optimized values\n",
    "    params.update(opt)\n",
    "\n",
    "    # Track the difference between the current color and the true value\n",
    "    err_ref = dr.sum(dr.sqr(param_ref - params[key]))\n",
    "    print(f\"Iteration {it:02d}: parameter error = {err_ref[0]:6f}\", end='\\r')\n",
    "    errors.append(err_ref)\n",
    "print('\\nOptimization complete.')"
   ]
  },
  {
   "cell_type": "code",
   "execution_count": null,
   "metadata": {},
   "outputs": [],
   "source": [
    "image_final = mi.render(scene, spp=128)\n",
    "mi.util.convert_to_bitmap(image_final)"
   ]
  },
  {
   "cell_type": "code",
   "execution_count": null,
   "metadata": {},
   "outputs": [],
   "source": [
    "import matplotlib.pyplot as plt\n",
    "plt.plot(errors)\n",
    "plt.xlabel('Iteration'); plt.ylabel('MSE(param)'); plt.title('Parameter error plot');\n",
    "plt.show()"
   ]
  },
  {
   "cell_type": "markdown",
   "metadata": {},
   "source": [
    "# object pose estimation"
   ]
  },
  {
   "cell_type": "code",
   "execution_count": null,
   "metadata": {},
   "outputs": [],
   "source": [
    "import drjit as dr\n",
    "import mitsuba as mi\n",
    "\n",
    "mi.set_variant('llvm_ad_rgb')\n",
    "\n",
    "integrator = {\n",
    "    'type': 'direct_reparam',\n",
    "}\n",
    "\n",
    "from mitsuba.scalar_rgb import Transform4f as T\n",
    "\n",
    "scene = mi.load_dict({\n",
    "    'type': 'scene',\n",
    "    'integrator': integrator,\n",
    "    'sensor':  {\n",
    "        'type': 'perspective',\n",
    "        'to_world': T.look_at(\n",
    "                        origin=(0, 0, 2),\n",
    "                        target=(0, 0, 0),\n",
    "                        up=(0, 1, 0)\n",
    "                    ),\n",
    "        'fov': 60,\n",
    "        'film': {\n",
    "            'type': 'hdrfilm',\n",
    "            'width': 64,\n",
    "            'height': 64,\n",
    "            'rfilter': { 'type': 'gaussian' },\n",
    "            'sample_border': True\n",
    "        },\n",
    "    },\n",
    "    'wall': {\n",
    "        'type': 'obj',\n",
    "        'filename': 'scenes/meshes/rectangle.obj',\n",
    "        'to_world': T.translate([0, 0, -2]).scale(2.0),\n",
    "        'face_normals': True,\n",
    "        'bsdf': {\n",
    "            'type': 'diffuse',\n",
    "            'reflectance': { 'type': 'rgb', 'value': (0.5, 0.5, 0.5) },\n",
    "        }\n",
    "    },\n",
    "    'bunny': {\n",
    "        'type': 'ply',\n",
    "        'filename': 'scenes/meshes/bunny.ply',\n",
    "        'to_world': T.scale(6.5),\n",
    "        'bsdf': {\n",
    "            'type': 'diffuse',\n",
    "            'reflectance': { 'type': 'rgb', 'value': (0.3, 0.3, 0.75) },\n",
    "        },\n",
    "    },\n",
    "    'barrel': {\n",
    "        'type': 'obj',\n",
    "        'filename': 'scenes/meshes/barrel-single.obj',\n",
    "        # 'to_world': T.scale(6.5),\n",
    "        'bsdf': {\n",
    "            'type': 'diffuse',\n",
    "            'reflectance': { 'type': 'rgb', 'value': (0.3, 0.3, 0.75) },\n",
    "        },\n",
    "    },\n",
    "    'light': {\n",
    "        'type': 'obj',\n",
    "        'filename': 'scenes/meshes/sphere.obj',\n",
    "        'emitter': {\n",
    "            'type': 'area',\n",
    "            'radiance': {'type': 'rgb', 'value': [1e3, 1e3, 1e3]}\n",
    "        },\n",
    "        'to_world': T.translate([2.5, 2.5, 7.0]).scale(0.25)\n",
    "    }\n",
    "})"
   ]
  },
  {
   "cell_type": "code",
   "execution_count": null,
   "metadata": {},
   "outputs": [],
   "source": [
    "img_ref = mi.render(scene, seed=0, spp=1024)\n",
    "\n",
    "mi.util.convert_to_bitmap(img_ref)"
   ]
  },
  {
   "cell_type": "code",
   "execution_count": null,
   "metadata": {},
   "outputs": [],
   "source": [
    "params = mi.traverse(scene)\n",
    "initial_vertex_positions = dr.unravel(mi.Point3f, params['bunny.vertex_positions'])"
   ]
  },
  {
   "cell_type": "code",
   "execution_count": null,
   "metadata": {},
   "outputs": [],
   "source": [
    "opt = mi.ad.Adam(lr=0.025)\n",
    "opt['angle'] = mi.Float(0.25)\n",
    "opt['trans'] = mi.Point2f(0.5, -0.25)"
   ]
  },
  {
   "cell_type": "code",
   "execution_count": null,
   "metadata": {},
   "outputs": [],
   "source": [
    "def apply_transformation(params, opt):\n",
    "    opt['trans'] = dr.clamp(opt['trans'], -0.5, 0.5)\n",
    "    opt['angle'] = dr.clamp(opt['angle'], -0.5, 0.5)\n",
    "\n",
    "    trafo = mi.Transform4f.translate([opt['trans'].x, opt['trans'].y, 0.0]).rotate([0, 1, 0], opt['angle'] * 100.0)\n",
    "\n",
    "    params['bunny.vertex_positions'] = dr.ravel(trafo @ initial_vertex_positions)\n",
    "    params.update()"
   ]
  },
  {
   "cell_type": "code",
   "execution_count": null,
   "metadata": {},
   "outputs": [],
   "source": [
    "apply_transformation(params, opt)\n",
    "\n",
    "img_init = mi.render(scene, seed=0, spp=1024)\n",
    "\n",
    "mi.util.convert_to_bitmap(img_init)"
   ]
  },
  {
   "cell_type": "code",
   "execution_count": null,
   "metadata": {},
   "outputs": [],
   "source": [
    "iteration_count = 100\n",
    "spp = 16\n",
    "\n",
    "loss_hist = []\n",
    "for it in range(iteration_count):\n",
    "    # Apply the mesh transformation\n",
    "    apply_transformation(params, opt)\n",
    "\n",
    "    # Perform a differentiable rendering\n",
    "    img = mi.render(scene, params, seed=it, spp=spp)\n",
    "\n",
    "    # Evaluate the objective function\n",
    "    loss = dr.sum(dr.sqr(img - img_ref)) / len(img)\n",
    "\n",
    "    # Backpropagate through the rendering process\n",
    "    dr.backward(loss)\n",
    "\n",
    "    # Optimizer: take a gradient descent step\n",
    "    opt.step()\n",
    "\n",
    "    loss_hist.append(loss)\n",
    "    print(f\"Iteration {it:02d}: error={loss[0]:6f}, angle={opt['angle'][0]:.4f}, trans=[{opt['trans'].x[0]:.4f}, {opt['trans'].y[0]:.4f}]\", end='\\r')"
   ]
  },
  {
   "cell_type": "code",
   "execution_count": null,
   "metadata": {},
   "outputs": [],
   "source": [
    "from matplotlib import pyplot as plt\n",
    "\n",
    "fig, axs = plt.subplots(2, 2, figsize=(10, 10))\n",
    "\n",
    "axs[0][0].plot(loss_hist)\n",
    "axs[0][0].set_xlabel('iteration');\n",
    "axs[0][0].set_ylabel('Loss');\n",
    "axs[0][0].set_title('Parameter error plot');\n",
    "\n",
    "axs[0][1].imshow(mi.util.convert_to_bitmap(img_init))\n",
    "axs[0][1].axis('off')\n",
    "axs[0][1].set_title('Initial Image')\n",
    "\n",
    "axs[1][0].imshow(mi.util.convert_to_bitmap(mi.render(scene, spp=1024)))\n",
    "axs[1][0].axis('off')\n",
    "axs[1][0].set_title('Optimized image')\n",
    "\n",
    "axs[1][1].imshow(mi.util.convert_to_bitmap(img_ref))\n",
    "axs[1][1].axis('off')\n",
    "axs[1][1].set_title('Reference Image');"
   ]
  }
 ],
 "metadata": {
  "kernelspec": {
   "display_name": "mitsuba",
   "language": "python",
   "name": "python3"
  },
  "language_info": {
   "codemirror_mode": {
    "name": "ipython",
    "version": 3
   },
   "file_extension": ".py",
   "mimetype": "text/x-python",
   "name": "python",
   "nbconvert_exporter": "python",
   "pygments_lexer": "ipython3",
   "version": "3.10.12"
  }
 },
 "nbformat": 4,
 "nbformat_minor": 2
}
