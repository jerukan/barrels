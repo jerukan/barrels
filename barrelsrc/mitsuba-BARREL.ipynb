{
 "cells": [
  {
   "cell_type": "code",
   "execution_count": null,
   "metadata": {},
   "outputs": [],
   "source": [
    "import drjit as dr\n",
    "import mitsuba as mi\n",
    "\n",
    "mi.set_variant('llvm_ad_rgb')\n",
    "\n",
    "integrator = {\n",
    "    'type': 'direct_reparam',\n",
    "}\n",
    "\n",
    "from mitsuba.scalar_rgb import Transform4f as T\n",
    "\n",
    "scene = mi.load_file(\"myscenes/barreltest.xml\", resx=160, resy=90)"
   ]
  },
  {
   "cell_type": "code",
   "execution_count": null,
   "metadata": {},
   "outputs": [],
   "source": [
    "img_ref = mi.render(scene, spp=512)\n",
    "\n",
    "# Preview the reference image\n",
    "mi.util.convert_to_bitmap(img_ref)"
   ]
  },
  {
   "cell_type": "code",
   "execution_count": null,
   "metadata": {},
   "outputs": [],
   "source": [
    "params = mi.traverse(scene)\n",
    "initial_vertex_positions = dr.unravel(mi.Point3f, params['mesh-barrels_obj.vertex_positions'])"
   ]
  },
  {
   "cell_type": "code",
   "execution_count": null,
   "metadata": {},
   "outputs": [],
   "source": [
    "def apply_transformation(params, opt):\n",
    "    opt['trans'] = dr.clamp(opt['trans'], -0.5, 0.5)\n",
    "    opt['angle'] = dr.clamp(opt['angle'], -0.5, 0.5)\n",
    "\n",
    "    trafo = mi.Transform4f.translate(\n",
    "        [opt['trans'].x, opt['trans'].y, opt['trans'].z]\n",
    "    ).rotate(\n",
    "        [1, 0, 0], opt['angle'].x * 100.0\n",
    "    ).rotate(\n",
    "        [0, 1, 0], opt['angle'].y * 100.0\n",
    "    ).rotate(\n",
    "        [0, 0, 1], opt['angle'].z * 100.0\n",
    "    )\n",
    "\n",
    "    params['mesh-barrels_obj.vertex_positions'] = dr.ravel(trafo @ initial_vertex_positions)\n",
    "    params.update()"
   ]
  },
  {
   "cell_type": "code",
   "execution_count": null,
   "metadata": {},
   "outputs": [],
   "source": [
    "opt = mi.ad.Adam(lr=0.025)\n",
    "opt['angle'] = mi.Point3f(0, 0.1, 0.2)\n",
    "opt['trans'] = mi.Point3f(0, 1, 0)\n",
    "\n",
    "apply_transformation(params, opt)\n",
    "\n",
    "img_init = mi.render(scene, seed=0, spp=1024)\n",
    "\n",
    "mi.util.convert_to_bitmap(img_init)"
   ]
  },
  {
   "cell_type": "code",
   "execution_count": null,
   "metadata": {},
   "outputs": [],
   "source": [
    "iteration_count = 100\n",
    "spp = 16\n",
    "\n",
    "loss_hist = []\n",
    "for it in range(iteration_count):\n",
    "    # Apply the mesh transformation\n",
    "    apply_transformation(params, opt)\n",
    "\n",
    "    # Perform a differentiable rendering\n",
    "    img = mi.render(scene, params, seed=it, spp=spp)\n",
    "\n",
    "    # Evaluate the objective function\n",
    "    loss = dr.sum(dr.sqr(img - img_ref)) / len(img)\n",
    "\n",
    "    # Backpropagate through the rendering process\n",
    "    dr.backward(loss)\n",
    "\n",
    "    # Optimizer: take a gradient descent step\n",
    "    opt.step()\n",
    "\n",
    "    loss_hist.append(loss)\n",
    "    print(f\"Iteration {it:02d}: error={loss[0]:6f}, angle=[{opt['angle'].x[0]:.4f}, {opt['angle'].y[0]:.4f}, {opt['angle'].z[0]:.4f}], trans=[{opt['trans'].x[0]:.4f}, {opt['trans'].y[0]:.4f}, {opt['trans'].z[0]:.4f}]\", end='\\r')"
   ]
  },
  {
   "cell_type": "code",
   "execution_count": null,
   "metadata": {},
   "outputs": [],
   "source": [
    "from matplotlib import pyplot as plt\n",
    "\n",
    "fig, axs = plt.subplots(2, 2, figsize=(10, 10))\n",
    "\n",
    "axs[0][0].plot(loss_hist)\n",
    "axs[0][0].set_xlabel('iteration')\n",
    "axs[0][0].set_ylabel('Loss')\n",
    "axs[0][0].set_title('Parameter error plot')\n",
    "\n",
    "axs[0][1].imshow(mi.util.convert_to_bitmap(img_init))\n",
    "axs[0][1].axis('off')\n",
    "axs[0][1].set_title('Initial Image')\n",
    "\n",
    "axs[1][0].imshow(mi.util.convert_to_bitmap(mi.render(scene, spp=1024)))\n",
    "axs[1][0].axis('off')\n",
    "axs[1][0].set_title('Optimized image')\n",
    "\n",
    "axs[1][1].imshow(mi.util.convert_to_bitmap(img_ref))\n",
    "axs[1][1].axis('off')\n",
    "axs[1][1].set_title('Reference Image')"
   ]
  }
 ],
 "metadata": {
  "kernelspec": {
   "display_name": "mitsuba",
   "language": "python",
   "name": "python3"
  },
  "language_info": {
   "codemirror_mode": {
    "name": "ipython",
    "version": 3
   },
   "file_extension": ".py",
   "mimetype": "text/x-python",
   "name": "python",
   "nbconvert_exporter": "python",
   "pygments_lexer": "ipython3",
   "version": "3.10.12"
  }
 },
 "nbformat": 4,
 "nbformat_minor": 2
}
