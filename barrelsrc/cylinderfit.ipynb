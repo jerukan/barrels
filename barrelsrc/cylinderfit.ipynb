{
 "cells": [
  {
   "cell_type": "code",
   "execution_count": null,
   "metadata": {},
   "outputs": [],
   "source": [
    "%matplotlib widget\n",
    "# %matplotlib notebook\n",
    "# %matplotlib inline\n",
    "\n",
    "import matplotlib.pyplot as plt\n",
    "from mpl_toolkits.mplot3d import Axes3D\n",
    "import numpy as np\n",
    "from scipy.optimize import leastsq\n",
    "from scipy.linalg import null_space"
   ]
  },
  {
   "cell_type": "code",
   "execution_count": null,
   "metadata": {},
   "outputs": [],
   "source": [
    "def get_cylinder_points(p1, p2, r):\n",
    "    ax_vec = p2 - p1\n",
    "    h = np.linalg.norm(ax_vec)\n",
    "    ax_vec = ax_vec / np.linalg.norm(ax_vec)\n",
    "    ax_null = null_space(np.array([ax_vec]))\n",
    "    axpts = np.linspace(0, h, 10)\n",
    "    thetas = np.linspace(0, 2 * np.pi, 20)\n",
    "    axpts, thetas = np.meshgrid(axpts, thetas)\n",
    "    X, Y, Z = [p1[i] + ax_vec[i] * axpts + r * np.sin(thetas) * ax_null[i, 0] + r * np.cos(thetas) * ax_null[i, 1] for i in [0, 1, 2]]\n",
    "    return X, Y, Z"
   ]
  },
  {
   "cell_type": "code",
   "execution_count": null,
   "metadata": {},
   "outputs": [],
   "source": [
    "X, Y, Z = get_cylinder_points(np.array([0, 0, 0]), np.array([1, 1, 1]), 0.5)\n",
    "\n",
    "fig = plt.figure()\n",
    "ax = fig.add_subplot(111, projection='3d')\n",
    "ax.plot_surface(X, Y, Z)"
   ]
  },
  {
   "cell_type": "code",
   "execution_count": null,
   "metadata": {},
   "outputs": [],
   "source": [
    "def cylinderFitting(xyz,p,th):\n",
    "\n",
    "    \"\"\"\n",
    "    This is a fitting for a vertical cylinder fitting\n",
    "    Reference:\n",
    "    http://www.int-arch-photogramm-remote-sens-spatial-inf-sci.net/XXXIX-B5/169/2012/isprsarchives-XXXIX-B5-169-2012.pdf\n",
    "\n",
    "    xyz is a matrix contain at least 5 rows, and each row stores x y z of a cylindrical surface\n",
    "    p is initial values of the parameter;\n",
    "    p[0] = Xc, x coordinate of the cylinder centre\n",
    "    P[1] = Yc, y coordinate of the cylinder centre\n",
    "    P[2] = alpha, rotation angle (radian) about the x-axis\n",
    "    P[3] = beta, rotation angle (radian) about the y-axis\n",
    "    P[4] = r, radius of the cylinder\n",
    "\n",
    "    th, threshold for the convergence of the least squares\n",
    "\n",
    "    \"\"\"   \n",
    "    x = xyz[:,0]\n",
    "    y = xyz[:,1]\n",
    "    z = xyz[:,2]\n",
    "\n",
    "    fitfunc = lambda p, x, y, z: (- np.cos(p[3])*(p[0] - x) - z*np.cos(p[2])*np.sin(p[3]) - np.sin(p[2])*np.sin(p[3])*(p[1] - y))**2 + (z*np.sin(p[2]) - np.cos(p[2])*(p[1] - y))**2 #fit function\n",
    "    errfunc = lambda p, x, y, z: fitfunc(p, x, y, z) - p[4]**2 #error function \n",
    "\n",
    "    est_p , success = leastsq(errfunc, p, args=(x, y, z), maxfev=1000)\n",
    "\n",
    "    return est_p\n",
    "\n",
    "H = 5\n",
    "R = 1\n",
    "n = 100\n",
    "xyz = np.zeros((n, 3))\n",
    "\n",
    "for i in range(n):\n",
    "    r = np.random.normal(R, 0.1)\n",
    "    theta = np.random.uniform(0, 2 * np.pi)\n",
    "    z = np.random.uniform(0, H)\n",
    "    xyz[i, :] = [r * np.cos(theta), r * np.sin(theta), z]\n",
    "print(\"Initial Parameters: \")\n",
    "p = np.array([-13.79,-8.45,0,0,0.3])\n",
    "print(p)\n",
    "print(\" \")\n",
    "\n",
    "print(\"Performing Cylinder Fitting ... \")\n",
    "est_p =  cylinderFitting(xyz,p,0.00001)\n",
    "print(\"Fitting Done!\")\n",
    "print(\" \")\n",
    "\n",
    "\n",
    "print(\"Estimated Parameters: \")\n",
    "print(est_p)"
   ]
  },
  {
   "cell_type": "code",
   "execution_count": null,
   "metadata": {},
   "outputs": [],
   "source": []
  }
 ],
 "metadata": {
  "kernelspec": {
   "display_name": "Python 3 (ipykernel)",
   "language": "python",
   "name": "python3"
  },
  "language_info": {
   "codemirror_mode": {
    "name": "ipython",
    "version": 3
   },
   "file_extension": ".py",
   "mimetype": "text/x-python",
   "name": "python",
   "nbconvert_exporter": "python",
   "pygments_lexer": "ipython3",
   "version": "3.9.18"
  }
 },
 "nbformat": 4,
 "nbformat_minor": 4
}
