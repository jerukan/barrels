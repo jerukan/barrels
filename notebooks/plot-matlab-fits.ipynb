{
 "cells": [
  {
   "cell_type": "code",
   "execution_count": null,
   "metadata": {},
   "outputs": [],
   "source": [
    "%load_ext autoreload\n",
    "%autoreload 2\n",
    "%matplotlib inline\n",
    "import os\n",
    "import sys\n",
    "module_path = os.path.abspath(os.path.join(\"..\"))\n",
    "if module_path not in sys.path:\n",
    "    sys.path.append(module_path)"
   ]
  },
  {
   "cell_type": "code",
   "execution_count": null,
   "metadata": {},
   "outputs": [],
   "source": [
    "from pathlib import Path\n",
    "\n",
    "import dill as pickle\n",
    "import numpy as np\n",
    "import plotly.graph_objects as go\n",
    "import scipy.io\n",
    "import visu3d as v3d\n",
    "\n",
    "from burybarrel.plotting import get_surface_line_traces, get_ray_trace\n",
    "from burybarrel.synthbarrel import Cylinder"
   ]
  },
  {
   "cell_type": "code",
   "execution_count": null,
   "metadata": {},
   "outputs": [],
   "source": [
    "reconstr_dir = Path(\"../results/barrel4-2sec-first5-reconstr\")\n",
    "# reconstr_dir = Path(\"../results/barrelddt1-reconstr\")\n",
    "# reconstr_dir = Path(\"../results/dive8-barrel-15-04-2sec-middle-reconstr\")\n",
    "# reconstr_dir = Path(\"../results/barrel2-5sec-contrast-reconstr\")\n",
    "ptspath = reconstr_dir / \"rotatedpts.pickle\"\n",
    "matcylpath = reconstr_dir / \"matcyl.mat\"\n",
    "\n",
    "if not ptspath.exists() or not matcylpath.exists():\n",
    "    raise FileNotFoundError(\"sad :(\")\n",
    "\n",
    "with open(ptspath, \"rb\") as f:\n",
    "    rotpcdict = pickle.load(f)\n",
    "matcylparams = scipy.io.loadmat(matcylpath)[\"cylparams\"][0]\n",
    "\n",
    "rotatedpc = v3d.Point3d(p=rotpcdict[\"p\"], rgb=rotpcdict[\"rgb\"])\n",
    "barrelyes = rotpcdict[\"isbarrel\"]\n",
    "cyl = Cylinder.from_mat_params(matcylparams)\n",
    "upax = cyl.axis\n",
    "if upax[2] < 0:\n",
    "    upax = -upax"
   ]
  },
  {
   "cell_type": "code",
   "execution_count": null,
   "metadata": {},
   "outputs": [],
   "source": [
    "print(cyl.get_volume_ratio_monte(100000, planecoeffs=[0, 0, 1, 0]))\n",
    "\n",
    "xx, yy, zz = cyl.get_pts_surf()\n",
    "# need to do this to change scatter point size\n",
    "randidxs = np.random.choice(np.arange(rotatedpc.shape[0]), 40000, replace=False)\n",
    "randmask = np.zeros(rotatedpc.shape[0], dtype=bool)\n",
    "randmask[randidxs] = True\n",
    "pctrace = rotatedpc[(~barrelyes) & randmask].make_traces()[0]\n",
    "pctrace[\"marker\"][\"size\"] = 4.0\n",
    "pctrace[\"opacity\"] = 0.9\n",
    "pctracebarrel = rotatedpc[barrelyes & randmask].make_traces()[0]\n",
    "pctracebarrel[\"marker\"][\"size\"] = 4.0\n",
    "pctracebarrel[\"opacity\"] = 0.9\n",
    "fig = v3d.make_fig()\n",
    "fig.add_traces([pctrace, pctracebarrel])\n",
    "fig.add_trace(get_ray_trace(cyl.c, upax, length=cyl.h, width=8, color=\"#e81b00\", markersize=10))\n",
    "cylsurf = go.Surface(x=xx, y=yy, z=zz, opacity=0.4, surfacecolor=np.zeros_like(xx), colorscale=\"oranges\")\n",
    "fig.add_trace(cylsurf)\n",
    "fig.add_traces(get_surface_line_traces(xx, yy, zz, width=2, step=5, include_horizontal=False))\n",
    "xmin, xmax = np.min(rotatedpc.p[:, 0]), np.max(rotatedpc.p[:, 0])\n",
    "ymin, ymax = np.min(rotatedpc.p[:, 1]), np.max(rotatedpc.p[:, 1])\n",
    "xx, yy = np.meshgrid(np.linspace(xmin, xmax, 10), np.linspace(ymin, ymax, 10))\n",
    "zz = np.zeros_like(xx)\n",
    "planesurf = go.Surface(x=xx, y=yy, z=zz, opacity=0.1, colorscale=\"purples\")\n",
    "# fig.add_trace(planesurf)\n",
    "# fig.add_traces(get_surface_line_traces(xx, yy, zz))\n",
    "fig.update_scenes(xaxis_visible=False, yaxis_visible=False, zaxis_visible=False)\n",
    "fig.show()"
   ]
  }
 ],
 "metadata": {
  "kernelspec": {
   "display_name": "barrels",
   "language": "python",
   "name": "python3"
  },
  "language_info": {
   "codemirror_mode": {
    "name": "ipython",
    "version": 3
   },
   "file_extension": ".py",
   "mimetype": "text/x-python",
   "name": "python",
   "nbconvert_exporter": "python",
   "pygments_lexer": "ipython3",
   "version": "3.11.9"
  }
 },
 "nbformat": 4,
 "nbformat_minor": 2
}
