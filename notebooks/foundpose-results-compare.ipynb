{
 "cells": [
  {
   "cell_type": "code",
   "execution_count": 1,
   "metadata": {},
   "outputs": [],
   "source": [
    "%load_ext autoreload\n",
    "%autoreload 2\n",
    "%matplotlib inline\n",
    "import os\n",
    "import sys\n",
    "module_path = os.path.abspath(os.path.join(\"..\"))\n",
    "if module_path not in sys.path:\n",
    "    sys.path.append(module_path)"
   ]
  },
  {
   "cell_type": "code",
   "execution_count": 19,
   "metadata": {},
   "outputs": [],
   "source": [
    "import json\n",
    "import math\n",
    "import os\n",
    "from pathlib import Path\n",
    "from typing import List\n",
    "import sys\n",
    "\n",
    "import dataclass_array as dca\n",
    "import jax.numpy as jnp\n",
    "import matplotlib.pyplot as plt\n",
    "import mitsuba as mi\n",
    "import numpy as np\n",
    "from PIL import Image\n",
    "import pycolmap\n",
    "import pyrender\n",
    "import trimesh\n",
    "import visu3d as v3d\n",
    "\n",
    "sys.path.append(os.path.abspath(os.path.join(\"..\", \"bop_toolkit\")))\n",
    "from bop_toolkit.bop_toolkit_lib.pose_error import vsd, mssd, mspd, add\n",
    "from bop_toolkit.bop_toolkit_lib.misc import get_symmetry_transformations\n",
    "from bop_toolkit.bop_toolkit_lib.renderer import create_renderer\n",
    "\n",
    "import burybarrel.colmap_util as cutil\n",
    "from burybarrel.image import render_v3d"
   ]
  },
  {
   "cell_type": "code",
   "execution_count": null,
   "metadata": {},
   "outputs": [],
   "source": [
    "renderer = create_renderer(1920, 875, renderer_type=\"vispy\", mode=\"depth\")"
   ]
  },
  {
   "cell_type": "code",
   "execution_count": 25,
   "metadata": {},
   "outputs": [],
   "source": [
    "objpath = Path(\"/scratch/jeyan/barreldata/models3d/barrelsingle-scaled.ply\")\n",
    "objinfopath = Path(\"/scratch/jeyan/barreldata/models3d/model_info.json\")\n",
    "caminfopath = Path(\"/scratch/jeyan/barreldata/divedata/dive8/barrelddt1/camera.json\")\n",
    "gtposepath = Path(\"/scratch/jeyan/barreldata/divedata/dive8/barrelddt1/gt_obj2cam.json\")\n",
    "masksdir = Path(\"/scratch/jeyan/barreldata/divedata/dive8/barrelddt1/mask\")\n",
    "estimatedpaths = {\n",
    "    \"barrelddt1_renders_layer9\": Path(\"/scratch/jeyan/foundpose/output_barrelddt1_renders_layer9/inference/estimated-poses.json\"),\n",
    "}\n",
    "\n",
    "with open(gtposepath, \"rt\") as f:\n",
    "    gtposes = json.load(f)\n",
    "with open(objinfopath, \"rt\") as f:\n",
    "    objinfo = json.load(f)\n",
    "with open(caminfopath, \"rt\") as f:\n",
    "    caminfo = json.load(f)\n",
    "maskpaths = list(sorted(masksdir.glob(\"*.png\")))\n",
    "\n",
    "renderer = create_renderer(1920, 875, renderer_type=\"vispy\", mode=\"depth\")\n",
    "renderer.add_object(\"barrel\", objpath)"
   ]
  },
  {
   "cell_type": "code",
   "execution_count": 54,
   "metadata": {},
   "outputs": [],
   "source": [
    "gtposes = list(sorted(gtposes, key=lambda x: int(x[\"img_id\"])))\n",
    "gt_Rs = np.array([gtpose[\"R\"] for gtpose in gtposes])\n",
    "gt_ts = np.array([gtpose[\"t\"] for gtpose in gtposes])[..., None]\n",
    "imgids = [gtpose[\"img_id\"] for gtpose in gtposes]"
   ]
  },
  {
   "cell_type": "code",
   "execution_count": 55,
   "metadata": {},
   "outputs": [],
   "source": [
    "K = np.array([\n",
    "    [caminfo[\"fx\"], 0, caminfo[\"cx\"]],\n",
    "    [0, caminfo[\"fy\"], caminfo[\"cy\"]],\n",
    "    [0, 0, 1.0]\n",
    "])"
   ]
  },
  {
   "cell_type": "code",
   "execution_count": 56,
   "metadata": {},
   "outputs": [],
   "source": [
    "symTs = get_symmetry_transformations(objinfo[\"barrelsingle-scaled.ply\"], 0.01)"
   ]
  },
  {
   "cell_type": "code",
   "execution_count": 57,
   "metadata": {},
   "outputs": [],
   "source": [
    "mesh = trimesh.load(objpath)\n",
    "vtxs = np.array(mesh.vertices)"
   ]
  },
  {
   "cell_type": "code",
   "execution_count": 58,
   "metadata": {},
   "outputs": [],
   "source": [
    "fx, fy, cx, cy = K[0, 0], K[1, 1], K[0, 2], K[1, 2]\n",
    "R_gt = gt_Rs[0]\n",
    "t_gt = gt_ts[0]\n",
    "depth_test = renderer.render_object(\"barrel\", R_gt, t_gt, fx, fy, cx, cy)[\"depth\"]"
   ]
  },
  {
   "cell_type": "code",
   "execution_count": 74,
   "metadata": {},
   "outputs": [],
   "source": [
    "estpath = estimatedpaths[\"barrelddt1_renders_layer9\"]\n",
    "with open(estpath, \"rt\") as f:\n",
    "    ests = json.load(f)\n",
    "allvsd = []\n",
    "allmssd = []\n",
    "allmspd = []\n",
    "for i, imgid in enumerate(imgids):\n",
    "    R_gt = gt_Rs[i]\n",
    "    t_gt = gt_ts[i]\n",
    "    # no test depth, just use ground truth\n",
    "    depth_test = renderer.render_object(\"barrel\", R_gt, t_gt, fx, fy, cx, cy)[\"depth\"]\n",
    "    imgmatches = list(filter(lambda x: x[\"img_id\"] == imgid, ests))\n",
    "    R_est = np.array(imgmatches[0][\"R\"])\n",
    "    t_est = np.array(imgmatches[0][\"t\"])\n",
    "    vsdres = vsd(R_est, t_est, R_gt, t_gt, depth_test, K, 0.2, [0.1, 0.2, 0.3, 0.4, 0.5], False, None, renderer, \"barrel\", \"step\")\n",
    "    mssdres = mssd(R_est, t_est, R_gt, t_gt, vtxs, symTs)\n",
    "    mspdres = mspd(R_est, t_est, R_gt, t_gt, K, vtxs, symTs)\n",
    "    allvsd.append(vsdres)\n",
    "    allmssd.append(mssdres)\n",
    "    allmspd.append(mspdres)"
   ]
  },
  {
   "cell_type": "code",
   "execution_count": null,
   "metadata": {},
   "outputs": [],
   "source": [
    "i = 7\n",
    "allvsd[i], allmssd[i], allmspd[i]"
   ]
  },
  {
   "cell_type": "code",
   "execution_count": null,
   "metadata": {},
   "outputs": [],
   "source": [
    "vsdres"
   ]
  }
 ],
 "metadata": {
  "kernelspec": {
   "display_name": "barrels",
   "language": "python",
   "name": "python3"
  },
  "language_info": {
   "codemirror_mode": {
    "name": "ipython",
    "version": 3
   },
   "file_extension": ".py",
   "mimetype": "text/x-python",
   "name": "python",
   "nbconvert_exporter": "python",
   "pygments_lexer": "ipython3",
   "version": "3.11.11"
  }
 },
 "nbformat": 4,
 "nbformat_minor": 2
}
