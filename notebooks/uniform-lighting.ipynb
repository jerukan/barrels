{
 "cells": [
  {
   "cell_type": "code",
   "execution_count": null,
   "metadata": {},
   "outputs": [],
   "source": [
    "%load_ext autoreload\n",
    "%autoreload 2\n",
    "%matplotlib inline\n",
    "import os\n",
    "import sys\n",
    "module_path = os.path.abspath(os.path.join(\"..\"))\n",
    "if module_path not in sys.path:\n",
    "    sys.path.append(module_path)"
   ]
  },
  {
   "cell_type": "code",
   "execution_count": null,
   "metadata": {},
   "outputs": [],
   "source": [
    "import json\n",
    "from pathlib import Path\n",
    "from typing import List\n",
    "\n",
    "import cv2\n",
    "import dataclass_array as dca\n",
    "import matplotlib.pyplot as plt\n",
    "import mitsuba as mi\n",
    "import numpy as np\n",
    "from PIL import Image\n",
    "import pycolmap\n",
    "import pyrender\n",
    "import transforms3d as t3d\n",
    "import trimesh\n",
    "import visu3d as v3d\n",
    "\n",
    "import burybarrel.colmap_util as cutil\n",
    "from burybarrel.image import render_v3d, imgs_from_dir"
   ]
  },
  {
   "cell_type": "code",
   "execution_count": null,
   "metadata": {},
   "outputs": [],
   "source": [
    "def temporal_window(imgs, idx, window_size):\n",
    "    if window_size % 2 == 0:\n",
    "        window_size += 1\n",
    "    half = window_size // 2\n",
    "    if idx >= half and idx < len(imgs) - half:\n",
    "        return imgs[idx - half:idx + half + 1]\n",
    "    elif idx >= len(imgs) - half:\n",
    "        return imgs[-window_size:]\n",
    "    else:\n",
    "        return imgs[:window_size]"
   ]
  },
  {
   "cell_type": "code",
   "execution_count": null,
   "metadata": {},
   "outputs": [],
   "source": [
    "temporal_window([0,1,2,3,4,5,6,7,8,9], 9, 5)"
   ]
  },
  {
   "cell_type": "code",
   "execution_count": null,
   "metadata": {},
   "outputs": [],
   "source": [
    "outdir = Path(\"../results/dive3-depthcharge-03-04-trimmed-reconstr/corrected\")\n",
    "imgdir = Path(\"../data/dive-data/Dive3/clips/dive3-depthcharge-03-04-trimmed\")\n",
    "imgpaths, imgs = imgs_from_dir(imgdir, asarray=True)"
   ]
  },
  {
   "cell_type": "markdown",
   "metadata": {},
   "source": [
    "$$R(x,y)=\\overline{\\bar{f}(x,y)}\\cdot\\min(\\frac{1}{\\bar{f}(x,y)},\\frac{\\text{Maxscale}}{\\bar{f}(x,y)+4\\sigma(x,y)})$$"
   ]
  },
  {
   "cell_type": "code",
   "execution_count": null,
   "metadata": {},
   "outputs": [],
   "source": [
    "for i, img in enumerate(imgs):\n",
    "    windowimg = temporal_window(imgs, i, 20)\n",
    "    avgpx = np.mean(windowimg, axis=0)\n",
    "    stdpx = np.std(windowimg, axis=0)\n",
    "    avgall = np.mean(windowimg)\n",
    "    maxscale = 255\n",
    "    correction = avgall * np.min([1 / avgpx, maxscale / (avgpx + 4 * stdpx)], axis=0)\n",
    "    correctedimg = Image.fromarray((imgs[i] * correction).astype(np.uint8))\n",
    "    correctedimg.save(outdir / imgpaths[i].name)"
   ]
  },
  {
   "cell_type": "code",
   "execution_count": null,
   "metadata": {},
   "outputs": [],
   "source": [
    "Image.fromarray((imgs[0] * correction).astype(np.uint8))"
   ]
  },
  {
   "cell_type": "code",
   "execution_count": null,
   "metadata": {},
   "outputs": [],
   "source": []
  },
  {
   "cell_type": "code",
   "execution_count": null,
   "metadata": {},
   "outputs": [],
   "source": []
  },
  {
   "cell_type": "code",
   "execution_count": null,
   "metadata": {},
   "outputs": [],
   "source": []
  }
 ],
 "metadata": {
  "kernelspec": {
   "display_name": "barrels",
   "language": "python",
   "name": "python3"
  },
  "language_info": {
   "codemirror_mode": {
    "name": "ipython",
    "version": 3
   },
   "file_extension": ".py",
   "mimetype": "text/x-python",
   "name": "python",
   "nbconvert_exporter": "python",
   "pygments_lexer": "ipython3",
   "version": "3.11.11"
  }
 },
 "nbformat": 4,
 "nbformat_minor": 2
}
