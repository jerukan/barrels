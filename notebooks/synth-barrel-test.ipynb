{
 "cells": [
  {
   "cell_type": "code",
   "execution_count": null,
   "metadata": {},
   "outputs": [],
   "source": [
    "import numpy as np\n",
    "from sklearn.neighbors import NearestNeighbors\n",
    "\n",
    "def classify_point_on_cylinder(point_cloud, point_index, k=10):\n",
    "    # Select the neighborhood points\n",
    "    nbrs = NearestNeighbors(n_neighbors=k, algorithm='auto').fit(point_cloud)\n",
    "    distances, indices = nbrs.kneighbors([point_cloud[point_index]])\n",
    "    neighborhood = point_cloud[indices[0]]\n",
    "\n",
    "    # Compute the covariance matrix\n",
    "    centroid = np.mean(neighborhood, axis=0)\n",
    "    centered_points = neighborhood - centroid\n",
    "    covariance_matrix = np.dot(centered_points.T, centered_points) / len(neighborhood)\n",
    "\n",
    "    # Perform eigenvalue decomposition\n",
    "    eigenvalues, eigenvectors = np.linalg.eigh(covariance_matrix)\n",
    "    sorted_indices = np.argsort(eigenvalues)\n",
    "    eigenvalues = eigenvalues[sorted_indices]\n",
    "    eigenvectors = eigenvectors[:, sorted_indices]\n",
    "\n",
    "    # The normal vector is the eigenvector corresponding to the smallest eigenvalue\n",
    "    normal_vector = eigenvectors[:, 0]\n",
    "\n",
    "    # Classification based on eigenvalue magnitudes\n",
    "    lambda1, lambda2, lambda3 = eigenvalues\n",
    "    if lambda1 < 0.01 * lambda2 and lambda1 < 0.01 * lambda3:\n",
    "        if lambda2 > 0.1 * lambda3:\n",
    "            point_type = \"Curved Side Surface\"\n",
    "        else:\n",
    "            point_type = \"Ambiguous\"\n",
    "    elif lambda1 < 0.01 * lambda2 and lambda1 < 0.01 * lambda3:\n",
    "        point_type = \"Flat Top/Bottom Surface\"\n",
    "    else:\n",
    "        point_type = \"Ambiguous\"\n",
    "    \n",
    "    return point_type, normal_vector, eigenvalues\n",
    "\n",
    "# Example usage:\n",
    "point_cloud = np.random.rand(100, 3)  # Replace with your point cloud data\n",
    "point_index = 5  # Index of the point of interest\n",
    "point_type, normal_vector, eigenvalues = classify_point_on_cylinder(point_cloud, point_index)\n",
    "print(\"Point Type:\", point_type)\n",
    "print(\"Normal Vector:\", normal_vector)\n",
    "print(\"Eigenvalues:\", eigenvalues)"
   ]
  }
 ],
 "metadata": {
  "language_info": {
   "name": "python"
  }
 },
 "nbformat": 4,
 "nbformat_minor": 2
}
