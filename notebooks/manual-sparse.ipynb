{
 "cells": [
  {
   "cell_type": "code",
   "execution_count": null,
   "metadata": {},
   "outputs": [],
   "source": [
    "%load_ext autoreload\n",
    "%autoreload 2\n",
    "%matplotlib widget\n",
    "import os\n",
    "import sys\n",
    "module_path = os.path.abspath(os.path.join(\"..\", \"barrels\"))\n",
    "if module_path not in sys.path:\n",
    "    sys.path.append(module_path)"
   ]
  },
  {
   "cell_type": "code",
   "execution_count": null,
   "metadata": {},
   "outputs": [],
   "source": [
    "import os\n",
    "from pathlib import Path\n",
    "import subprocess\n",
    "\n",
    "import matplotlib.pyplot as plt\n",
    "import numpy as np\n",
    "import pandas as pd\n",
    "import pycolmap\n",
    "import transforms3d as t3d\n",
    "import visu3d as v3d\n",
    "\n",
    "import colmap_util as cutil"
   ]
  },
  {
   "cell_type": "code",
   "execution_count": null,
   "metadata": {},
   "outputs": [],
   "source": [
    "image_dir = Path(\"../dive-data/Dive8/clips/barrelddt3\")\n",
    "imgpaths = sorted(list(image_dir.glob(\"*.jpg\")))\n",
    "\n",
    "reconstr_path = Path(f\"output/{image_dir.name}-reconstr\")\n",
    "output_path = reconstr_path / \"colmap-out\"\n",
    "manual_reconstr_path = output_path / \"manual\"\n",
    "manual_reconstr_path.mkdir(exist_ok=True)\n",
    "camtxt = manual_reconstr_path / \"cameras.txt\"\n",
    "imgtxt = manual_reconstr_path / \"images.txt\"\n",
    "pointstxt = manual_reconstr_path / \"points3D.txt\"\n",
    "camtxt.touch()\n",
    "imgtxt.touch()\n",
    "pointstxt.touch()\n",
    "img_navs = pd.read_csv(image_dir / \"frame-time-nav.csv\")\n",
    "img_navs[\"timestamp\"] = pd.to_datetime(img_navs[\"timestamp\"])\n",
    "database_path = output_path / \"database.db\"\n",
    "images = cutil.get_images(database_path)"
   ]
  },
  {
   "cell_type": "code",
   "execution_count": null,
   "metadata": {},
   "outputs": [],
   "source": [
    "def haversine(lat1, lat2, lon1, lon2):\n",
    "    \"\"\"\n",
    "    Calculates the haversine distance between two points.\n",
    "    \"\"\"\n",
    "    R = 6378.137  # Radius of earth in KM\n",
    "    dLat = lat2 * np.pi / 180 - lat1 * np.pi / 180\n",
    "    dLon = lon2 * np.pi / 180 - lon1 * np.pi / 180\n",
    "    a = np.sin(dLat / 2) * np.sin(dLat / 2) + np.cos(lat1 * np.pi / 180) * np.cos(\n",
    "        lat2 * np.pi / 180\n",
    "    ) * np.sin(dLon / 2) * np.sin(dLon / 2)\n",
    "    c = 2 * np.arctan2(a ** (1 / 2), (1 - a) ** (1 / 2))\n",
    "    d = R * c\n",
    "    return d * 1000  # meters\n",
    "\n",
    "def get_img_navrow(filename):\n",
    "    img_navrows = img_navs[img_navs[\"filename\"] == filename]\n",
    "    return img_navrows.iloc[0]"
   ]
  },
  {
   "cell_type": "code",
   "execution_count": null,
   "metadata": {},
   "outputs": [],
   "source": [
    "with open(camtxt, \"wt\") as camf, open(imgtxt, \"wt\") as imgf:\n",
    "    camf.write(\"# Camera list with one line of data per camera:\\n\")\n",
    "    camf.write(\"#   CAMERA_ID, MODEL, WIDTH, HEIGHT, PARAMS[]\\n\")\n",
    "    camf.write(f\"# Number of cameras: {len(imgpaths)}\\n\")\n",
    "    imgf.write(\"# Image list with two lines of data per image:\\n\")\n",
    "    imgf.write(\"#   IMAGE_ID, QW, QX, QY, QZ, TX, TY, TZ, CAMERA_ID, NAME\\n\")\n",
    "    imgf.write(\"#   POINTS2D[] as (X, Y, POINT3D_ID)\\n\")\n",
    "    origin_row = img_navs.iloc[0]\n",
    "    origin_x = origin_row[\"longitude\"]\n",
    "    origin_y = origin_row[\"latitude\"]\n",
    "    origin_z = -origin_row[\"depth\"]\n",
    "    # for idx, imgpath in enumerate(imgpaths):\n",
    "    for idx, img in enumerate(images):\n",
    "        imgpath = image_dir / img.name\n",
    "        row = get_img_navrow(imgpath.name)\n",
    "        navpos = row\n",
    "        x = navpos[\"longitude\"]\n",
    "        y = navpos[\"latitude\"]\n",
    "        xdiff = haversine(origin_y, origin_y, origin_x, x)\n",
    "        ydiff = haversine(origin_y, y, origin_x, origin_x)\n",
    "        if x < origin_x:\n",
    "            xdiff *= -1\n",
    "        if y < origin_y:\n",
    "            ydiff *= -1\n",
    "        x = xdiff\n",
    "        y = ydiff\n",
    "        z = -navpos[\"depth\"] - origin_z\n",
    "        yaw = navpos[\"yaw\"]\n",
    "        # yaw = navpos[\"heading\"] * np.pi / 180\n",
    "        pitch = navpos[\"pitch\"]\n",
    "        roll = navpos[\"roll\"]\n",
    "        # pitch was written assuming regular frame, oops\n",
    "        # roll is ambiguous, but is very small anyway, probably doesn't affect anything\n",
    "        R0 = t3d.euler.euler2mat(0, 0, yaw - np.pi/2, axes=\"sxyz\")\n",
    "        R1 = t3d.euler.euler2mat(-pitch - (0 * np.pi / 180), 0, roll, axes=\"rxyz\")\n",
    "        R = R0 @ R1\n",
    "        T = np.eye(4)\n",
    "        T[:3, :3] = R\n",
    "        T[:3, 3] = [x, y, z]\n",
    "        # w, x, y, z\n",
    "        q = t3d.quaternions.mat2quat(T[:3, :3])\n",
    "        camf.write(f\"{img.camera_id} RADIAL 1920 875 1246 960 420 -0.123 -0.015\\n\")\n",
    "        imgf.write(f\"{img.image_id} {q[0]} {q[1]} {q[2]} {q[3]} {x} {y} {z} {img.camera_id} {imgpath.name}\\n\\n\")"
   ]
  },
  {
   "cell_type": "code",
   "execution_count": null,
   "metadata": {},
   "outputs": [],
   "source": [
    "prevreconpath = manual_reconstr_path\n",
    "iters = 1\n",
    "for i in range(iters):\n",
    "    tripath = output_path / f\"manualtri{i}\"\n",
    "    tripath.mkdir(exist_ok=True)\n",
    "    bundlepath = output_path / f\"manualbundle{i}\"\n",
    "    bundlepath.mkdir(exist_ok=True)\n",
    "    subprocess.run([\"colmap\", \"point_triangulator\", \"--database_path\", database_path, \"--image_path\", image_dir, \"--input_path\", prevreconpath,  \"--output_path\", tripath])\n",
    "    subprocess.run([\n",
    "        \"colmap\", \"bundle_adjuster\",\n",
    "        \"--input_path\", tripath,\n",
    "        \"--output_path\", bundlepath,\n",
    "        \"--BundleAdjustment.function_tolerance\", \"0.01\",\n",
    "    ])\n",
    "    subprocess.run([\"colmap\", \"model_converter\", \"--input_path\", tripath, \"--output_path\", tripath, \"--output_type\", \"TXT\"])\n",
    "    subprocess.run([\"colmap\", \"model_converter\", \"--input_path\", bundlepath, \"--output_path\", bundlepath, \"--output_type\", \"TXT\"])\n",
    "    prevreconpath = bundlepath"
   ]
  },
  {
   "cell_type": "code",
   "execution_count": null,
   "metadata": {},
   "outputs": [],
   "source": [
    "reconstruction = pycolmap.Reconstruction(output_path / \"manualtri0\")\n",
    "print(reconstruction.summary())"
   ]
  },
  {
   "cell_type": "code",
   "execution_count": null,
   "metadata": {},
   "outputs": [],
   "source": [
    "pts, cols = cutil.get_pc(reconstruction)\n",
    "ptcloud = v3d.Point3d(p=pts, rgb=cols)\n",
    "ptcloud.fig"
   ]
  }
 ],
 "metadata": {
  "kernelspec": {
   "display_name": "ddt",
   "language": "python",
   "name": "python3"
  },
  "language_info": {
   "codemirror_mode": {
    "name": "ipython",
    "version": 3
   },
   "file_extension": ".py",
   "mimetype": "text/x-python",
   "name": "python",
   "nbconvert_exporter": "python",
   "pygments_lexer": "ipython3",
   "version": "3.10.14"
  }
 },
 "nbformat": 4,
 "nbformat_minor": 2
}
