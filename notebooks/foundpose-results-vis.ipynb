{
 "cells": [
  {
   "cell_type": "markdown",
   "metadata": {},
   "source": [
    "# figures galore\n",
    "\n",
    "results visualizations for paper or something idk"
   ]
  },
  {
   "cell_type": "markdown",
   "metadata": {},
   "source": [
    "## setup, data loading needed for most visualizations"
   ]
  },
  {
   "cell_type": "code",
   "execution_count": null,
   "metadata": {},
   "outputs": [],
   "source": [
    "%load_ext autoreload\n",
    "%autoreload 2\n",
    "%matplotlib inline\n",
    "import os\n",
    "import sys\n",
    "module_path = os.path.abspath(os.path.join(\"..\"))\n",
    "if module_path not in sys.path:\n",
    "    sys.path.append(module_path)"
   ]
  },
  {
   "cell_type": "code",
   "execution_count": null,
   "metadata": {},
   "outputs": [],
   "source": [
    "import json\n",
    "import math\n",
    "import os\n",
    "from pathlib import Path\n",
    "from typing import List\n",
    "import sys\n",
    "\n",
    "import cv2\n",
    "import dataclass_array as dca\n",
    "import jax.numpy as jnp\n",
    "import matplotlib.pyplot as plt\n",
    "import mitsuba as mi\n",
    "import numpy as np\n",
    "from PIL import Image\n",
    "import pandas as pd\n",
    "import pycolmap\n",
    "import pyrender\n",
    "import trimesh\n",
    "import visu3d as v3d\n",
    "import yaml\n",
    "\n",
    "sys.path.append(os.path.abspath(os.path.join(\"..\", \"bop_toolkit\")))\n",
    "from bop_toolkit.bop_toolkit_lib.pose_error import vsd, mssd, mspd\n",
    "from bop_toolkit.bop_toolkit_lib.misc import get_symmetry_transformations\n",
    "from bop_toolkit.bop_toolkit_lib.renderer import create_renderer\n",
    "\n",
    "import burybarrel.colmap_util as cutil\n",
    "from burybarrel.image import render_v3d, render_models, to_contour\n",
    "from burybarrel.camera import RadialCamera, load_v3dcams\n",
    "from burybarrel.mesh import subdivide_mesh, recolor_mesh\n",
    "from burybarrel.transform import T_from_blender, T_from_translation, scale_T_translation, scale_cams, scale_pc\n",
    "from burybarrel.plotting import get_line3d_trace"
   ]
  },
  {
   "cell_type": "code",
   "execution_count": null,
   "metadata": {},
   "outputs": [],
   "source": [
    "tmpdir = Path(\"/scratch/jeyan/barreldata/tmp\")\n",
    "metricscsvpath = Path(\"/scratch/jeyan/barreldata/results/allmetrics.csv\")\n",
    "metricsdf = pd.read_csv(metricscsvpath)\n",
    "metricsdf.head()"
   ]
  },
  {
   "cell_type": "code",
   "execution_count": null,
   "metadata": {},
   "outputs": [],
   "source": [
    "metricsdf[[\"avg_vsd\", \"avg_mssd\", \"avg_mspd\", \"multiview_fitted\", \"pose_type\", \"use_icp\"]].groupby([\"multiview_fitted\", \"pose_type\", \"use_icp\"]).mean()"
   ]
  },
  {
   "cell_type": "code",
   "execution_count": null,
   "metadata": {},
   "outputs": [],
   "source": [
    "# loading EVERYTHING\n",
    "datasetname = \"barrelddt1\"\n",
    "singledatarows = metricsdf[metricsdf[\"dataset\"] == datasetname]\n",
    "\n",
    "resrow = singledatarows.iloc[3]\n",
    "datadir = Path(resrow[\"datadir\"])\n",
    "resdir = Path(resrow[\"resdir\"])\n",
    "object_name = resrow[\"object_name\"]\n",
    "\n",
    "with open(\"../configs/blender_gt_info.yaml\", \"rt\") as f:\n",
    "    gtinfo = yaml.safe_load(f)\n",
    "with open(datadir / \"gt_obj2cam.json\", \"rt\") as f:\n",
    "    gtposes = yaml.safe_load(f)\n",
    "with open(datadir / \"info.json\", \"rt\") as f:\n",
    "    datainfo = yaml.safe_load(f)\n",
    "with open(datadir / \"camera.json\", \"rt\") as f:\n",
    "    caminfo = yaml.safe_load(f)\n",
    "with open(resdir / \"../../sam-masks/masksinfo.json\", \"rt\") as f:\n",
    "    masksinfo = yaml.safe_load(f)\n",
    "posepath = resdir / \"estimated-poses.json\"\n",
    "estinfopath = resdir / \"reconstruction-info.json\"\n",
    "with open(posepath, \"rt\") as f:\n",
    "    ests = yaml.safe_load(f)\n",
    "with open(estinfopath, \"rt\") as f:\n",
    "    estinfo = yaml.safe_load(f)\n",
    "with open(resdir / \"../../foundpose-output/inference/estimated-poses.json\", \"rt\") as f:\n",
    "    foundposeests = yaml.safe_load(f)\n",
    "cams, imgpaths = load_v3dcams(resdir / \"../../colmap-out/cam_poses.json\", img_parent=datadir / \"rgb\")\n",
    "\n",
    "densepath = resdir / \"../../openmvs-out/scene_dense_trimeshvalid.ply\"\n",
    "densetrimesh: trimesh.PointCloud = trimesh.load_mesh(densepath)\n",
    "densepc = v3d.Point3d(p=densetrimesh.vertices, rgb=densetrimesh.colors[:, :3])\n",
    "\n",
    "camspec = RadialCamera.from_jsonargs(**caminfo)\n",
    "objpath = Path(\"/scratch/jeyan/barreldata/models3d\") / object_name\n",
    "mesh: trimesh.Trimesh = trimesh.load_mesh(objpath)\n",
    "meshpc = v3d.Point3d(p=mesh.vertices, rgb=[255, 0, 0])"
   ]
  },
  {
   "cell_type": "markdown",
   "metadata": {},
   "source": [
    "## some 3d overlay wireframe visualization thing"
   ]
  },
  {
   "cell_type": "code",
   "execution_count": null,
   "metadata": {},
   "outputs": [],
   "source": [
    "idx = 5\n",
    "est = ests[idx]\n",
    "gt = gtposes[idx]\n",
    "est"
   ]
  },
  {
   "cell_type": "code",
   "execution_count": null,
   "metadata": {},
   "outputs": [],
   "source": [
    "meshcol = np.array([255, 0, 0, 255], dtype=np.uint8)\n",
    "planecol = np.array([0, 0, 255, 255], dtype=np.uint8)\n",
    "black = np.array([0, 0, 0, 255], dtype=np.uint8)\n",
    "transparent = np.array([0, 0, 0, 0], dtype=np.uint8)\n",
    "mesh = recolor_mesh(mesh, meshcol)\n",
    "plane = trimesh.creation.box(extents=(100, 100, 0.01))\n",
    "plane = subdivide_mesh(plane, 7)\n",
    "plane = recolor_mesh(plane, planecol)"
   ]
  },
  {
   "cell_type": "code",
   "execution_count": null,
   "metadata": {},
   "outputs": [],
   "source": [
    "obj2cam = v3d.Transform(R=est[\"R\"], t=est[\"t\"])\n",
    "floor2cam = v3d.Transform(R=est[\"R_floor\"], t=est[\"t_floor\"])\n",
    "obj2camgt = v3d.Transform(R=gt[\"R\"], t=gt[\"t\"])\n",
    "floor2camgt = v3d.Transform(R=gt[\"R_floor\"], t=gt[\"t_floor\"])"
   ]
  },
  {
   "cell_type": "code",
   "execution_count": null,
   "metadata": {},
   "outputs": [],
   "source": [
    "cam = v3d.Camera(spec=camspec, world_from_cam=v3d.Transform.identity())"
   ]
  },
  {
   "cell_type": "code",
   "execution_count": null,
   "metadata": {},
   "outputs": [],
   "source": [
    "maskrgb, _, _ = render_models(cam, [mesh, plane], [obj2cam, floor2cam], light_intensity=1000, flags=pyrender.RenderFlags.FLAT)\n",
    "objmask = np.all(maskrgb == [255, 0, 0], axis=-1)\n",
    "rgb_wireframe, _, _ = render_models(cam, [recolor_mesh(plane, black)], [floor2cam], light_intensity=1000, wireframe=True, flags=pyrender.RenderFlags.RGBA)\n",
    "rgb_wireframe = np.copy(rgb_wireframe)\n",
    "rgb_wireframe *= ~objmask[..., None]\n",
    "rgb, _, _ = render_models(cam, [mesh, plane], [obj2cam, floor2cam], light_intensity=50, wireframe=False)\n",
    "Image.fromarray(rgb_wireframe).save(tmpdir / \"rendered_wireframe.png\")\n",
    "Image.fromarray(rgb).save(tmpdir / \"rendered.png\")\n",
    "img = cv2.cvtColor(cv2.imread(est[\"img_path\"]), cv2.COLOR_BGR2RGB)\n",
    "alpha = 0.5\n",
    "img = cv2.addWeighted(img, alpha, rgb, 1 - alpha, 0)\n",
    "wireframewhere = np.where(rgb_wireframe[..., 3] > 0)\n",
    "img[wireframewhere] = rgb_wireframe[wireframewhere][..., :3]\n",
    "Image.fromarray(img).save(tmpdir / \"rendered_overlay.png\")\n",
    "\n",
    "# rgb, _, _ = render_models(cam, [mesh, plane], [obj2camgt, floor2camgt], light_intensity=1000, wireframe=True, flags=pyrender.RenderFlags.RGBA)\n",
    "# Image.fromarray(rgb).save(tmpdir / \"rendered_gt.png\")\n",
    "# img = cv2.cvtColor(cv2.imread(est[\"img_path\"]), cv2.COLOR_BGR2RGB)\n",
    "# wireframewhere = np.where(rgb[..., 3] > 0)\n",
    "# img[wireframewhere] = rgb[wireframewhere][..., :3]\n",
    "# Image.fromarray(img).save(tmpdir / \"rendered_overlay_gt.png\")"
   ]
  },
  {
   "cell_type": "code",
   "execution_count": null,
   "metadata": {},
   "outputs": [],
   "source": [
    "what = v3d.Transform.from_matrix(np.array([\n",
    "    [1, 0, 0, 0],\n",
    "    [0, 1, 0, 0],\n",
    "    [0, 0, 1, 4.0],\n",
    "    [0, 0, 0, 1]\n",
    "]))\n",
    "test, _, _ = render_models(cam, [recolor_mesh(plane, [255, 0, 0, 255])], [what], light_intensity=1000, wireframe=True, flags=pyrender.RenderFlags.NONE)\n",
    "Image.fromarray(test).save(Path(\"/scratch/jeyan/barreldata/tmp\") / \"rendered_test.png\")"
   ]
  },
  {
   "cell_type": "markdown",
   "metadata": {},
   "source": [
    "## visualizing mask"
   ]
  },
  {
   "cell_type": "code",
   "execution_count": null,
   "metadata": {},
   "outputs": [],
   "source": [
    "idx = 1\n",
    "singlemasksinfo = masksinfo[idx]\n",
    "singlemasksinfo"
   ]
  },
  {
   "cell_type": "code",
   "execution_count": null,
   "metadata": {},
   "outputs": [],
   "source": [
    "bestidx = singlemasksinfo[\"best_idx\"]\n",
    "# [x_min, y_min, x_max, y_max]\n",
    "bbox = list(map(int, singlemasksinfo[\"bboxes\"][bestidx]))\n",
    "mask = np.array(Image.open(singlemasksinfo[\"mask_paths\"][bestidx]).convert(\"L\"))\n",
    "maskbool = mask > 0\n",
    "img = np.array(Image.open(singlemasksinfo[\"img_path\"]).convert(\"RGBA\"))"
   ]
  },
  {
   "cell_type": "code",
   "execution_count": null,
   "metadata": {},
   "outputs": [],
   "source": [
    "maskalpha = np.zeros((*img.shape[:2], 4), dtype=np.uint8)\n",
    "maskalpha[maskbool, 0:3] = [255, 0, 0]\n",
    "maskalpha[maskbool, 3] = 255\n",
    "maskalpha[~maskbool] = img[~maskbool]\n",
    "alpha = 0.5\n",
    "overlayed = cv2.addWeighted(img, alpha, maskalpha, 1 - alpha, 0)\n",
    "overlayed = cv2.rectangle(overlayed, (bbox[0], bbox[1]), (bbox[2], bbox[3]), (255, 197, 71, 255), 10)\n",
    "Image.fromarray(overlayed).save(tmpdir / \"rendered_overlay_mask.png\")"
   ]
  },
  {
   "cell_type": "markdown",
   "metadata": {},
   "source": [
    "## multiview visualization thing"
   ]
  },
  {
   "cell_type": "code",
   "execution_count": null,
   "metadata": {},
   "outputs": [],
   "source": [
    "# Tworld_obj = T_from_blender(gtinfo[datasetname][\"R\"], gtinfo[datasetname][\"t\"], scale=gtinfo[datasetname][\"scalefactor\"])\n",
    "scale = 1 / gtinfo[datasetname][\"scalefactor\"]\n",
    "T_zup = T_from_blender(gtinfo[datasetname][\"R_floor\"], gtinfo[datasetname][\"t_floor\"], scale=1).inv"
   ]
  },
  {
   "cell_type": "code",
   "execution_count": null,
   "metadata": {},
   "outputs": [],
   "source": [
    "datainfo"
   ]
  },
  {
   "cell_type": "code",
   "execution_count": null,
   "metadata": {},
   "outputs": [],
   "source": [
    "gtposes[0]"
   ]
  },
  {
   "cell_type": "code",
   "execution_count": null,
   "metadata": {},
   "outputs": [],
   "source": [
    "densepc_zup = scale_pc(T_zup @ densepc, scale)\n",
    "cams_zup = scale_cams(cams.apply_transform(T_zup), scale)\n",
    "cam1 = cams_zup[0]\n",
    "cam2 = cams_zup[-1]\n",
    "foundposeest1 = list(filter(lambda x: Path(x[\"img_path\"]).stem == imgpaths[0].stem, foundposeests))[2]\n",
    "foundposeT1 = v3d.Transform(R=foundposeest1[\"R\"], t=foundposeest1[\"t\"])\n",
    "v3d.make_fig([densepc_zup, cam1, cam2, get_line3d_trace(cams_zup.world_from_cam.t, markersize=3, linewidth=3), cam1.world_from_cam @ foundposeT1 @ meshpc])"
   ]
  },
  {
   "cell_type": "code",
   "execution_count": null,
   "metadata": {},
   "outputs": [],
   "source": [
    "img = np.array(Image.open(imgpaths[0]).convert(\"RGBA\"))\n",
    "T_objworld = cam1.world_from_cam @ foundposeT1\n",
    "objwireframe, _, _ = render_models(cam1, [recolor_mesh(mesh, [255, 0, 0, 255])], [T_objworld], light_intensity=5000, wireframe=True, flags=pyrender.RenderFlags.RGBA)\n",
    "wireframemask = objwireframe[..., 3] > 0\n",
    "objwireframe[~wireframemask] = img[~wireframemask]\n",
    "Image.fromarray(objwireframe)"
   ]
  },
  {
   "cell_type": "code",
   "execution_count": null,
   "metadata": {},
   "outputs": [],
   "source": [
    "img = np.array(Image.open(imgpaths[-1]).convert(\"RGBA\"))\n",
    "objwireframe, _, _ = render_models(cam2, [recolor_mesh(mesh, [255, 0, 0, 255])], [T_objworld], light_intensity=5000, wireframe=True, flags=pyrender.RenderFlags.RGBA)\n",
    "wireframemask = objwireframe[..., 3] > 0\n",
    "objwireframe[~wireframemask] = img[~wireframemask]\n",
    "Image.fromarray(objwireframe)"
   ]
  },
  {
   "cell_type": "code",
   "execution_count": null,
   "metadata": {},
   "outputs": [],
   "source": []
  }
 ],
 "metadata": {
  "kernelspec": {
   "display_name": "barrels",
   "language": "python",
   "name": "python3"
  },
  "language_info": {
   "codemirror_mode": {
    "name": "ipython",
    "version": 3
   },
   "file_extension": ".py",
   "mimetype": "text/x-python",
   "name": "python",
   "nbconvert_exporter": "python",
   "pygments_lexer": "ipython3",
   "version": "3.11.11"
  }
 },
 "nbformat": 4,
 "nbformat_minor": 2
}
