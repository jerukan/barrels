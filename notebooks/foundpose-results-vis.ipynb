{
 "cells": [
  {
   "cell_type": "code",
   "execution_count": 1,
   "metadata": {},
   "outputs": [],
   "source": [
    "%load_ext autoreload\n",
    "%autoreload 2\n",
    "%matplotlib inline\n",
    "import os\n",
    "import sys\n",
    "module_path = os.path.abspath(os.path.join(\"..\"))\n",
    "if module_path not in sys.path:\n",
    "    sys.path.append(module_path)"
   ]
  },
  {
   "cell_type": "code",
   "execution_count": 2,
   "metadata": {},
   "outputs": [],
   "source": [
    "import json\n",
    "from pathlib import Path\n",
    "from typing import List\n",
    "\n",
    "import dataclass_array as dca\n",
    "import jax.numpy as jnp\n",
    "import matplotlib.pyplot as plt\n",
    "import mitsuba as mi\n",
    "import numpy as np\n",
    "from PIL import Image\n",
    "import pycolmap\n",
    "import pyrender\n",
    "import trimesh\n",
    "import visu3d as v3d\n",
    "\n",
    "import burybarrel.colmap_util as cutil\n",
    "from burybarrel.image import render_v3d"
   ]
  },
  {
   "cell_type": "code",
   "execution_count": null,
   "metadata": {},
   "outputs": [],
   "source": [
    "reconstr_path = Path(\"/scratch/jeyan/barreldata/results/barrelddt1/colmap-out/0\")\n",
    "foundpose_res_path = Path(\"/scratch/jeyan/foundpose/output_barrelddt1_renders_layer9/inference/estimated-poses.json\")\n",
    "obj_path = Path(\"/scratch/jeyan/barreldata/models3d/barrelsingle-scaled.ply\")\n",
    "\n",
    "reconstruction = pycolmap.Reconstruction(reconstr_path)\n",
    "print(reconstruction.summary())"
   ]
  },
  {
   "cell_type": "code",
   "execution_count": 8,
   "metadata": {},
   "outputs": [],
   "source": [
    "p, c = cutil.get_pc(reconstruction)\n",
    "pts3d = v3d.Point3d(p=p, rgb=c)\n",
    "cams = cutil.get_cams_v3d(reconstruction)\n",
    "# v3d.make_fig([cams, pts3d])"
   ]
  },
  {
   "cell_type": "code",
   "execution_count": 9,
   "metadata": {},
   "outputs": [],
   "source": [
    "with open(foundpose_res_path, \"rt\") as f:\n",
    "    foundpose_res = json.load(f)\n",
    "foundpose_res = list(filter(lambda x: x[\"hypothesis_id\"] == \"0\", foundpose_res))"
   ]
  },
  {
   "cell_type": "code",
   "execution_count": null,
   "metadata": {},
   "outputs": [],
   "source": [
    "foundpose_res[9]"
   ]
  },
  {
   "cell_type": "code",
   "execution_count": 11,
   "metadata": {},
   "outputs": [],
   "source": [
    "obj2cams = []\n",
    "for res in foundpose_res:\n",
    "    R = res[\"R\"]\n",
    "    t = res[\"t\"]\n",
    "    T = np.eye(4)\n",
    "    T[:3, :3] = R\n",
    "    T[:3, 3] = np.reshape(t, -1)\n",
    "    obj2cams.append(T)\n",
    "obj2cams = np.array(obj2cams)"
   ]
  },
  {
   "cell_type": "code",
   "execution_count": 40,
   "metadata": {},
   "outputs": [],
   "source": [
    "mesh = trimesh.load(obj_path)\n",
    "vtxs = np.array(mesh.vertices)\n",
    "rgb = np.zeros_like(vtxs, dtype=np.uint8)\n",
    "rgb[:, 0] = 255\n",
    "vtxs_p3d = v3d.Point3d(p=vtxs, rgb=rgb)"
   ]
  },
  {
   "cell_type": "code",
   "execution_count": 13,
   "metadata": {},
   "outputs": [],
   "source": [
    "# unscaled 3d\n",
    "tofig = []\n",
    "barrels_trf = []\n",
    "tofig.extend([pts3d, cams])\n",
    "for i, cam in enumerate(cams):\n",
    "    cam2world = cam.world_from_cam\n",
    "    obj2cam = v3d.Transform.from_matrix(obj2cams[i])\n",
    "    rgb = np.zeros_like(vtxs, dtype=np.uint8)\n",
    "    rgb[:, 0] = 255\n",
    "    pts = v3d.Point3d(p=vtxs, rgb=rgb)\n",
    "    pts = cam2world @ obj2cam @ pts\n",
    "    tofig.extend([pts])\n",
    "# v3d.make_fig(*tofig)"
   ]
  },
  {
   "cell_type": "code",
   "execution_count": 20,
   "metadata": {},
   "outputs": [],
   "source": [
    "# scaled 3d\n",
    "scalefactor = 0.19\n",
    "scaleT = v3d.Transform.from_matrix(np.eye(4) * scalefactor)\n",
    "tofig = []\n",
    "camscaled = cams.replace(world_from_cam=cams.world_from_cam.replace(t=cams.world_from_cam.t * scalefactor))\n",
    "sceneptsscaled = pts3d.apply_transform(scaleT)\n",
    "barrels_trf = []\n",
    "barrels_T = []\n",
    "tofig.extend([sceneptsscaled, camscaled])\n",
    "for i, cam in enumerate(camscaled):\n",
    "    cam2world = cam.world_from_cam\n",
    "    obj2cam = v3d.Transform.from_matrix(obj2cams[i])\n",
    "    rgb = np.zeros_like(vtxs, dtype=np.uint8)\n",
    "    rgb[:, 0] = 255\n",
    "    pts = v3d.Point3d(p=vtxs, rgb=rgb)\n",
    "    pts = cam2world @ obj2cam @ pts\n",
    "    barrels_T.append(cam2world @ obj2cam)\n",
    "    barrels_trf.append(pts)\n",
    "    tofig.extend([pts])\n",
    "# v3d.make_fig(*tofig)"
   ]
  },
  {
   "cell_type": "code",
   "execution_count": 39,
   "metadata": {},
   "outputs": [],
   "source": [
    "# manually finding a truth barrel; i.e. manually scale and select barrel, camera pair\n",
    "# that visually fits the best\n",
    "i = 9\n",
    "truth_T = barrels_T[i]\n",
    "obj2cams_truth = camscaled.world_from_cam.inv @ truth_T[None, ...]\n",
    "# v3d.make_fig(camscaled[i], sceneptsscaled, barrels_trf[i])"
   ]
  },
  {
   "cell_type": "code",
   "execution_count": null,
   "metadata": {},
   "outputs": [],
   "source": [
    "i = 2\n",
    "Image.fromarray(render_v3d(camscaled[i], dca.concat([sceneptsscaled, camscaled[i].world_from_cam @ obj2cams_truth[i] @ vtxs_p3d]), radius=4))"
   ]
  },
  {
   "cell_type": "code",
   "execution_count": 68,
   "metadata": {},
   "outputs": [],
   "source": [
    "# use manually found ground truth barrel as reference, save these relative transformations\n",
    "gt_data_list = []\n",
    "for i, T in enumerate(obj2cams_truth):\n",
    "    truthdata = {\n",
    "        \"img_path\": foundpose_res[i][\"img_path\"],\n",
    "        \"img_id\": foundpose_res[i][\"img_id\"],\n",
    "        \"R\": T.R.tolist(),\n",
    "        \"t\": T.t.tolist(),\n",
    "    }\n",
    "    gt_data_list.append(truthdata)\n",
    "with open(\"/scratch/jeyan/barreldata/results/barrelddt1/gt_obj2cam.json\", \"wt\") as f:\n",
    "    json.dump(gt_data_list, f)"
   ]
  },
  {
   "cell_type": "code",
   "execution_count": 30,
   "metadata": {},
   "outputs": [],
   "source": [
    "i = 9\n",
    "# Image.fromarray(render_v3d(camscaled[i], dca.concat([sceneptsscaled, barrels_trf[i]]), radius=2))"
   ]
  },
  {
   "cell_type": "code",
   "execution_count": 31,
   "metadata": {},
   "outputs": [],
   "source": [
    "mesh = trimesh.load(obj_path)\n",
    "vtxs = np.array(mesh.vertices)\n",
    "stuff = []\n",
    "stuff.append(pts3d)\n",
    "\n",
    "i = 9\n",
    "cam = cams[i]\n",
    "cam2world = cam.world_from_cam\n",
    "obj2cam = v3d.Transform.from_matrix(obj2cams[i])\n",
    "rgb = np.zeros_like(vtxs, dtype=np.uint8)\n",
    "rgb[:, 0] = 255\n",
    "pts = v3d.Point3d(p=vtxs, rgb=rgb)\n",
    "pts = cam2world @ obj2cam @ pts\n",
    "stuff.extend([pts, cam])\n",
    "# Image.fromarray(render_v3d(cam, dca.concat([pts3d, pts]), radius=2))\n",
    "# Image.fromarray(render_v3d(cam, dca.concat([pts3d]), radius=2))"
   ]
  },
  {
   "cell_type": "code",
   "execution_count": null,
   "metadata": {},
   "outputs": [],
   "source": [
    "camTs = jnp.array(cams.world_from_cam.matrix4x4)\n",
    "objTs = jnp.array(obj2cams)\n",
    "\n",
    "def variance_from_scale(scale):\n",
    "    scaledcamTs = camTs.at[:, 0:3, 3].multiply(scale)\n",
    "    centershom = scaledcamTs @ objTs @ jnp.array([0, 0, 0, 1.0])\n",
    "    centers = centershom[:, :3]\n",
    "    return jnp.sum(jnp.var(centers, axis=0))\n",
    "\n",
    "from jax import grad, jacfwd, jacrev\n",
    "\n",
    "grad_cost = grad(variance_from_scale)\n",
    "scaleinit = 1.0\n",
    "currscale = scaleinit\n",
    "currgrad = grad_cost(scaleinit)\n",
    "rate = 0.01\n",
    "eps = 1e-3\n",
    "while jnp.abs(currgrad) > eps:\n",
    "    currgrad = grad_cost(currscale)\n",
    "    currscale -= rate * currgrad\n",
    "print(currscale)"
   ]
  },
  {
   "cell_type": "code",
   "execution_count": 133,
   "metadata": {},
   "outputs": [],
   "source": [
    "def ransac(*data, fit_func=None, loss_func=None, cost_func=None, samp_min=10, inlier_min=10, inlier_thres=0.1, max_iter=1000, seed=None):\n",
    "    \"\"\"\n",
    "    Args:\n",
    "        fit_func (data -> model)\n",
    "        loss_func ((model, data) -> array): vectorized loss for individual data points\n",
    "        cost_func ((model, data) -> scalar): total cost to try to minimize\n",
    "    \"\"\"\n",
    "    rng = np.random.default_rng(seed)\n",
    "    best_model = None\n",
    "    best_inlier_idxs = []\n",
    "    best_inliers = []\n",
    "    best_error = float(\"inf\")\n",
    "\n",
    "    for _ in range(max_iter):\n",
    "        sample_indices = rng.choice(len(data[0]), samp_min, replace=False)\n",
    "        sample = [singledata[sample_indices] for singledata in data]\n",
    "\n",
    "        model = fit_func(sample)\n",
    "\n",
    "        errors = loss_func(model, data)\n",
    "\n",
    "        inlier_idxs = np.where(errors < inlier_thres)[0]\n",
    "        n_inliers = len(inlier_idxs)\n",
    "        inliers = [singledata[inlier_idxs] for singledata in data]\n",
    "\n",
    "        total_error = cost_func(model, inliers)\n",
    "\n",
    "        if n_inliers >= inlier_min:\n",
    "            if n_inliers > len(best_inlier_idxs) or (n_inliers == len(best_inlier_idxs) and total_error < best_error):\n",
    "                best_model = model\n",
    "                best_inliers = inliers\n",
    "                best_inlier_idxs = inlier_idxs\n",
    "                best_error = total_error\n",
    "    if best_model is None:\n",
    "        raise ValueError(\"No valid model found after RANSAC\")\n",
    "    return best_model, best_inlier_idxs\n",
    "\n",
    "X = np.array([-0.848,-0.800,-0.704,-0.632,-0.488,-0.472,-0.368,-0.336,-0.280,-0.200,-0.00800,-0.0840,0.0240,0.100,0.124,0.148,0.232,0.236,0.324,0.356,0.368,0.440,0.512,0.548,0.660,0.640,0.712,0.752,0.776,0.880,0.920,0.944,-0.108,-0.168,-0.720,-0.784,-0.224,-0.604,-0.740,-0.0440,0.388,-0.0200,0.752,0.416,-0.0800,-0.348,0.988,0.776,0.680,0.880,-0.816,-0.424,-0.932,0.272,-0.556,-0.568,-0.600,-0.716,-0.796,-0.880,-0.972,-0.916,0.816,0.892,0.956,0.980,0.988,0.992,0.00400]).reshape(-1,1)\n",
    "y = np.array([-0.917,-0.833,-0.801,-0.665,-0.605,-0.545,-0.509,-0.433,-0.397,-0.281,-0.205,-0.169,-0.0531,-0.0651,0.0349,0.0829,0.0589,0.175,0.179,0.191,0.259,0.287,0.359,0.395,0.483,0.539,0.543,0.603,0.667,0.679,0.751,0.803,-0.265,-0.341,0.111,-0.113,0.547,0.791,0.551,0.347,0.975,0.943,-0.249,-0.769,-0.625,-0.861,-0.749,-0.945,-0.493,0.163,-0.469,0.0669,0.891,0.623,-0.609,-0.677,-0.721,-0.745,-0.885,-0.897,-0.969,-0.949,0.707,0.783,0.859,0.979,0.811,0.891,-0.137]).reshape(-1,1)\n",
    "\n",
    "class LinearRegressor:\n",
    "    def __init__(self):\n",
    "        self.params = None\n",
    "\n",
    "    def fit(self, X: np.ndarray, y: np.ndarray):\n",
    "        r, _ = X.shape\n",
    "        X = np.hstack([np.ones((r, 1)), X])\n",
    "        self.params = np.linalg.inv(X.T @ X) @ X.T @ y\n",
    "        return self\n",
    "\n",
    "    def predict(self, X: np.ndarray):\n",
    "        r, _ = X.shape\n",
    "        X = np.hstack([np.ones((r, 1)), X])\n",
    "        return X @ self.params\n",
    "\n",
    "def fitfunc(data):\n",
    "    X = data[0]\n",
    "    y = data[1]\n",
    "    reg = LinearRegressor()\n",
    "    reg.fit(X, y)\n",
    "    return reg\n",
    "\n",
    "def lossfunc(model, data):\n",
    "    X = data[0]\n",
    "    y = data[1]\n",
    "    ypred = model.predict(X)\n",
    "    return np.abs(y - ypred).reshape(-1)\n",
    "\n",
    "def costfunc(model, data):\n",
    "    X = data[0]\n",
    "    y = data[1]\n",
    "    ypred = model.predict(X)\n",
    "    return np.sum((y - ypred) ** 2) ** 0.5\n",
    "\n",
    "reg = LinearRegressor()\n",
    "reg.fit(X, y)\n",
    "\n",
    "import matplotlib.pyplot as plt\n",
    "\n",
    "# plt.scatter(X, y)\n",
    "# line = np.linspace(np.min(X), np.max(X), num=100).reshape(-1, 1)\n",
    "# plt.plot(line, reg.predict(line), c=\"peru\")"
   ]
  },
  {
   "cell_type": "code",
   "execution_count": 134,
   "metadata": {},
   "outputs": [],
   "source": [
    "model, inlieridxs = ransac(X, y, fit_func=fitfunc, loss_func=lossfunc, cost_func=costfunc, samp_min=10, inlier_min=10, inlier_thres=0.2)\n",
    "# plt.scatter(X[inlieridxs], y[inlieridxs])\n",
    "# line = np.linspace(np.min(X), np.max(X), num=100).reshape(-1, 1)\n",
    "# plt.plot(line, model.predict(line), c=\"peru\")"
   ]
  },
  {
   "cell_type": "code",
   "execution_count": 102,
   "metadata": {},
   "outputs": [],
   "source": [
    "# this derivative 100% has a closed form but i'm too lazy to solve for it\n",
    "# so screw it, just do gradient descent.\n",
    "def variance_from_scale(scale, data):\n",
    "    camTs = jnp.array(data[0])\n",
    "    objTs = jnp.array(data[1])\n",
    "    scaledcamTs = camTs.at[:, 0:3, 3].multiply(scale)\n",
    "    centershom = scaledcamTs @ objTs @ jnp.array([0, 0, 0, 1.0])\n",
    "    centers = centershom[:, :3]\n",
    "    # trace of cov matrix for now, i guess\n",
    "    return jnp.sum(jnp.var(centers, axis=0))\n",
    "\n",
    "class ScaleCentroidModel():\n",
    "    def __init__(self):\n",
    "        self.scale = None\n",
    "        self.mean = None\n",
    "\n",
    "    def __call__(self, data):\n",
    "        return self.predict(data)\n",
    "    \n",
    "    def fit(self, data):\n",
    "        varfunc_data = lambda x: variance_from_scale(x, data)\n",
    "        grad_cost = grad(varfunc_data)\n",
    "        scaleinit = 1.0\n",
    "        currscale = scaleinit\n",
    "        currgrad = grad_cost(scaleinit)\n",
    "        rate = 0.01\n",
    "        eps = 1e-3\n",
    "        while jnp.abs(currgrad) > eps:\n",
    "            currgrad = grad_cost(currscale)\n",
    "            currscale -= rate * currgrad\n",
    "        self.scale = float(currscale)\n",
    "        centroids = self.predict(data)\n",
    "        self.mean = np.mean(centroids, axis=0)\n",
    "        return self\n",
    "\n",
    "    def predict(self, data):\n",
    "        cam2worlds = data[0]\n",
    "        obj2cams = data[1]\n",
    "        scaledcamTs = np.copy(cam2worlds)\n",
    "        scaledcamTs[:, 0:3, 3] *= self.scale\n",
    "        centershom = scaledcamTs @ obj2cams @ jnp.array([0, 0, 0, 1.0])\n",
    "        centers = centershom[:, :3]\n",
    "        return centers\n",
    "\n",
    "# data = (cam2world nx4x4, obj2cam nx4x4)\n",
    "def fitcams(data):\n",
    "    model = ScaleCentroidModel()\n",
    "    model.fit(data)\n",
    "    return model\n",
    "\n",
    "def camloss(model, data):\n",
    "    cents = model(data)\n",
    "    return np.linalg.norm(cents - model.mean, axis=1)\n",
    "\n",
    "def camcost(model, data):\n",
    "    cents = model(data)\n",
    "    return jnp.sum(jnp.var(cents, axis=0))\n",
    "\n",
    "model, inlieridxs = ransac(cams.world_from_cam.matrix4x4, obj2cams, fit_func=fitcams, loss_func=camloss, cost_func=camcost, samp_min=5, inlier_min=5, inlier_thres=0.15, max_iter=50)"
   ]
  },
  {
   "cell_type": "code",
   "execution_count": null,
   "metadata": {},
   "outputs": [],
   "source": [
    "model.scale, inlieridxs"
   ]
  },
  {
   "cell_type": "code",
   "execution_count": null,
   "metadata": {},
   "outputs": [],
   "source": [
    "# scaled 3d\n",
    "scalefactor = float(model.scale)\n",
    "scaleT = v3d.Transform.from_matrix(np.eye(4) * scalefactor)\n",
    "tofig = []\n",
    "camsfilt = cams[inlieridxs]\n",
    "camsfilt = camsfilt.replace(world_from_cam=camsfilt.world_from_cam.replace(t=camsfilt.world_from_cam.t * scalefactor))\n",
    "sceneptsscaled = pts3d.apply_transform(scaleT)\n",
    "barrels_trf = []\n",
    "obj2camsfilt = obj2cams[inlieridxs]\n",
    "tofig.extend([sceneptsscaled, camsfilt])\n",
    "for i, cam in enumerate(camsfilt):\n",
    "    cam2world = cam.world_from_cam\n",
    "    obj2cam = v3d.Transform.from_matrix(obj2camsfilt[i])\n",
    "    rgb = np.zeros_like(vtxs, dtype=np.uint8)\n",
    "    rgb[:, 0] = 255\n",
    "    pts = v3d.Point3d(p=vtxs, rgb=rgb)\n",
    "    pts = cam2world @ obj2cam @ pts\n",
    "    barrels_trf.append(pts)\n",
    "    tofig.extend([pts])\n",
    "v3d.make_fig(*tofig)"
   ]
  },
  {
   "cell_type": "code",
   "execution_count": null,
   "metadata": {},
   "outputs": [],
   "source": [
    "len(tofig)"
   ]
  },
  {
   "cell_type": "code",
   "execution_count": null,
   "metadata": {},
   "outputs": [],
   "source": [
    "A = np.array([[1,2,3], [4,5,6]])\n",
    "np.linalg.norm(A - np.mean(A, axis=0), axis=1)"
   ]
  },
  {
   "cell_type": "code",
   "execution_count": null,
   "metadata": {},
   "outputs": [],
   "source": [
    "from sklearn import datasets, linear_model\n",
    "ransac = linear_model.RANSACRegressor()"
   ]
  }
 ],
 "metadata": {
  "kernelspec": {
   "display_name": "barrels",
   "language": "python",
   "name": "python3"
  },
  "language_info": {
   "codemirror_mode": {
    "name": "ipython",
    "version": 3
   },
   "file_extension": ".py",
   "mimetype": "text/x-python",
   "name": "python",
   "nbconvert_exporter": "python",
   "pygments_lexer": "ipython3",
   "version": "3.11.11"
  }
 },
 "nbformat": 4,
 "nbformat_minor": 2
}
