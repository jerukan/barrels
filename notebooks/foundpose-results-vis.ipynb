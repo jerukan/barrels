{
 "cells": [
  {
   "cell_type": "markdown",
   "metadata": {},
   "source": [
    "results visualizations for paper or something idk"
   ]
  },
  {
   "cell_type": "code",
   "execution_count": null,
   "metadata": {},
   "outputs": [],
   "source": [
    "%load_ext autoreload\n",
    "%autoreload 2\n",
    "%matplotlib inline\n",
    "import os\n",
    "import sys\n",
    "module_path = os.path.abspath(os.path.join(\"..\"))\n",
    "if module_path not in sys.path:\n",
    "    sys.path.append(module_path)"
   ]
  },
  {
   "cell_type": "code",
   "execution_count": null,
   "metadata": {},
   "outputs": [],
   "source": [
    "import json\n",
    "import math\n",
    "import os\n",
    "from pathlib import Path\n",
    "from typing import List\n",
    "import sys\n",
    "\n",
    "import cv2\n",
    "import dataclass_array as dca\n",
    "import jax.numpy as jnp\n",
    "import matplotlib.pyplot as plt\n",
    "import mitsuba as mi\n",
    "import numpy as np\n",
    "from PIL import Image\n",
    "import pandas as pd\n",
    "import pycolmap\n",
    "import pyrender\n",
    "import trimesh\n",
    "import visu3d as v3d\n",
    "import yaml\n",
    "\n",
    "sys.path.append(os.path.abspath(os.path.join(\"..\", \"bop_toolkit\")))\n",
    "from bop_toolkit.bop_toolkit_lib.pose_error import vsd, mssd, mspd\n",
    "from bop_toolkit.bop_toolkit_lib.misc import get_symmetry_transformations\n",
    "from bop_toolkit.bop_toolkit_lib.renderer import create_renderer\n",
    "\n",
    "import burybarrel.colmap_util as cutil\n",
    "from burybarrel.image import render_v3d, render_models, to_contour"
   ]
  },
  {
   "cell_type": "code",
   "execution_count": null,
   "metadata": {},
   "outputs": [],
   "source": [
    "metricscsvpath = Path(\"/scratch/jeyan/barreldata/results/allmetrics.csv\")\n",
    "metricsdf = pd.read_csv(metricscsvpath)\n",
    "metricsdf.head()"
   ]
  },
  {
   "cell_type": "code",
   "execution_count": null,
   "metadata": {},
   "outputs": [],
   "source": [
    "metricsdf[[\"avg_vsd\", \"avg_mssd\", \"avg_mspd\", \"multiview_fitted\", \"pose_type\", \"use_icp\"]].groupby([\"multiview_fitted\", \"pose_type\", \"use_icp\"]).mean()"
   ]
  },
  {
   "cell_type": "code",
   "execution_count": null,
   "metadata": {},
   "outputs": [],
   "source": [
    "resrow = metricsdf.iloc[3]\n",
    "datadir = Path(resrow[\"datadir\"])\n",
    "resdir = Path(resrow[\"resdir\"])\n",
    "object_name = resrow[\"object_name\"]\n",
    "\n",
    "with open(datadir / \"gt_obj2cam.json\", \"rt\") as f:\n",
    "    gtposes = yaml.safe_load(f)\n",
    "with open(datadir / \"info.json\", \"rt\") as f:\n",
    "    datainfo = yaml.safe_load(f)\n",
    "with open(datadir / \"camera.json\", \"rt\") as f:\n",
    "    caminfo = yaml.safe_load(f)\n",
    "posepath = resdir / \"estimated-poses.json\"\n",
    "estinfopath = resdir / \"reconstruction-info.json\"\n",
    "with open(posepath, \"rt\") as f:\n",
    "    ests = yaml.safe_load(f)\n",
    "with open(estinfopath, \"rt\") as f:\n",
    "    estinfo = yaml.safe_load(f)"
   ]
  },
  {
   "cell_type": "code",
   "execution_count": null,
   "metadata": {},
   "outputs": [],
   "source": [
    "ests[1]"
   ]
  },
  {
   "cell_type": "code",
   "execution_count": null,
   "metadata": {},
   "outputs": [],
   "source": [
    "v3d.Transform.from_matrix(np.eye(4)).matrix4x4"
   ]
  },
  {
   "cell_type": "code",
   "execution_count": null,
   "metadata": {},
   "outputs": [],
   "source": [
    "objpath = Path(\"/scratch/jeyan/barreldata/models3d\") / object_name\n",
    "mesh = trimesh.load_mesh(objpath)"
   ]
  },
  {
   "cell_type": "code",
   "execution_count": null,
   "metadata": {},
   "outputs": [],
   "source": [
    "mesh.visual.vertex_colors = np.array([255, 0, 0, 255], dtype=np.uint8)"
   ]
  },
  {
   "cell_type": "code",
   "execution_count": null,
   "metadata": {},
   "outputs": [],
   "source": [
    "render_models()"
   ]
  }
 ],
 "metadata": {
  "kernelspec": {
   "display_name": "barrels",
   "language": "python",
   "name": "python3"
  },
  "language_info": {
   "codemirror_mode": {
    "name": "ipython",
    "version": 3
   },
   "file_extension": ".py",
   "mimetype": "text/x-python",
   "name": "python",
   "nbconvert_exporter": "python",
   "pygments_lexer": "ipython3",
   "version": "3.11.11"
  }
 },
 "nbformat": 4,
 "nbformat_minor": 2
}
