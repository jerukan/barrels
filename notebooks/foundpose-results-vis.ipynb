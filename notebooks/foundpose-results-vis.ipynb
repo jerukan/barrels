{
 "cells": [
  {
   "cell_type": "code",
   "execution_count": null,
   "metadata": {},
   "outputs": [],
   "source": [
    "%load_ext autoreload\n",
    "%autoreload 2\n",
    "%matplotlib inline\n",
    "import os\n",
    "import sys\n",
    "module_path = os.path.abspath(os.path.join(\"..\"))\n",
    "if module_path not in sys.path:\n",
    "    sys.path.append(module_path)"
   ]
  },
  {
   "cell_type": "code",
   "execution_count": null,
   "metadata": {},
   "outputs": [],
   "source": [
    "import json\n",
    "import math\n",
    "import os\n",
    "from pathlib import Path\n",
    "from typing import List\n",
    "import sys\n",
    "\n",
    "import cv2\n",
    "import dataclass_array as dca\n",
    "import jax.numpy as jnp\n",
    "import matplotlib.pyplot as plt\n",
    "import mitsuba as mi\n",
    "import numpy as np\n",
    "from PIL import Image\n",
    "import pandas as pd\n",
    "import pycolmap\n",
    "import pyrender\n",
    "import trimesh\n",
    "import visu3d as v3d\n",
    "import yaml\n",
    "\n",
    "sys.path.append(os.path.abspath(os.path.join(\"..\", \"bop_toolkit\")))\n",
    "from bop_toolkit.bop_toolkit_lib.pose_error import vsd, mssd, mspd\n",
    "from bop_toolkit.bop_toolkit_lib.misc import get_symmetry_transformations\n",
    "from bop_toolkit.bop_toolkit_lib.renderer import create_renderer\n",
    "\n",
    "import burybarrel.colmap_util as cutil\n",
    "from burybarrel.image import render_v3d, imgs_from_dir"
   ]
  },
  {
   "cell_type": "code",
   "execution_count": null,
   "metadata": {},
   "outputs": [],
   "source": []
  },
  {
   "cell_type": "code",
   "execution_count": null,
   "metadata": {},
   "outputs": [],
   "source": []
  },
  {
   "cell_type": "code",
   "execution_count": null,
   "metadata": {},
   "outputs": [],
   "source": []
  }
 ],
 "metadata": {
  "kernelspec": {
   "display_name": "barrels",
   "language": "python",
   "name": "python3"
  },
  "language_info": {
   "name": "python",
   "version": "3.11.11"
  }
 },
 "nbformat": 4,
 "nbformat_minor": 2
}
