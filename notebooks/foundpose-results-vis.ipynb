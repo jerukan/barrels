{
 "cells": [
  {
   "cell_type": "code",
   "execution_count": 2,
   "metadata": {},
   "outputs": [],
   "source": [
    "%load_ext autoreload\n",
    "%autoreload 2\n",
    "%matplotlib inline\n",
    "import os\n",
    "import sys\n",
    "module_path = os.path.abspath(os.path.join(\"..\"))\n",
    "if module_path not in sys.path:\n",
    "    sys.path.append(module_path)"
   ]
  },
  {
   "cell_type": "code",
   "execution_count": 19,
   "metadata": {},
   "outputs": [],
   "source": [
    "import json\n",
    "from pathlib import Path\n",
    "from typing import List\n",
    "\n",
    "import dataclass_array as dca\n",
    "import matplotlib.pyplot as plt\n",
    "import mitsuba as mi\n",
    "import numpy as np\n",
    "from PIL import Image\n",
    "import pycolmap\n",
    "import pyrender\n",
    "import trimesh\n",
    "import visu3d as v3d\n",
    "\n",
    "import burybarrel.colmap_util as cutil\n",
    "from burybarrel.image import render_v3d"
   ]
  },
  {
   "cell_type": "code",
   "execution_count": null,
   "metadata": {},
   "outputs": [],
   "source": [
    "reconstr_path = Path(\"/scratch/jeyan/barreldata/results/barrelddt1/colmap-out/0\")\n",
    "foundpose_res_path = Path(\"/scratch/jeyan/foundpose/output_barrelddt1/inference/estimated-poses.json\")\n",
    "obj_path = Path(\"/scratch/jeyan/barreldata/models3d/barrelsingle-scaled.ply\")\n",
    "\n",
    "reconstruction = pycolmap.Reconstruction(reconstr_path)\n",
    "print(reconstruction.summary())"
   ]
  },
  {
   "cell_type": "code",
   "execution_count": null,
   "metadata": {},
   "outputs": [],
   "source": [
    "p, c = cutil.get_pc(reconstruction)\n",
    "pts3d = v3d.Point3d(p=p, rgb=c)\n",
    "cams = cutil.get_cams_v3d(reconstruction)\n",
    "v3d.make_fig([cams, pts3d])"
   ]
  },
  {
   "cell_type": "code",
   "execution_count": 6,
   "metadata": {},
   "outputs": [],
   "source": [
    "with open(foundpose_res_path, \"rt\") as f:\n",
    "    foundpose_res = json.load(f)\n",
    "foundpose_res = list(filter(lambda x: x[\"hypothesis_id\"] == \"0\", foundpose_res))"
   ]
  },
  {
   "cell_type": "code",
   "execution_count": null,
   "metadata": {},
   "outputs": [],
   "source": [
    "foundpose_res[9]"
   ]
  },
  {
   "cell_type": "code",
   "execution_count": 8,
   "metadata": {},
   "outputs": [],
   "source": [
    "transforms = []\n",
    "for res in foundpose_res:\n",
    "    R = res[\"R\"]\n",
    "    t = res[\"t\"]\n",
    "    T = np.eye(4)\n",
    "    T[:3, :3] = R\n",
    "    T[:3, 3] = np.reshape(t, -1)\n",
    "    transforms.append(T)\n",
    "transforms = np.array(transforms)"
   ]
  },
  {
   "cell_type": "code",
   "execution_count": 134,
   "metadata": {},
   "outputs": [],
   "source": [
    "mesh = trimesh.load(obj_path)\n",
    "vtxs = np.array(mesh.vertices)\n",
    "scalefactor = 0.2\n",
    "scaleT = v3d.Transform.from_matrix(np.eye(4) * scalefactor)"
   ]
  },
  {
   "cell_type": "code",
   "execution_count": null,
   "metadata": {},
   "outputs": [],
   "source": [
    "tofig = []\n",
    "barrels_trf = []\n",
    "tofig.extend([pts3d, cams])\n",
    "for i, cam in enumerate(cams):\n",
    "    cam2world = cam.world_from_cam\n",
    "    obj2cam = v3d.Transform.from_matrix(transforms[i])\n",
    "    rgb = np.zeros_like(vtxs, dtype=np.uint8)\n",
    "    rgb[:, 0] = 255\n",
    "    pts = v3d.Point3d(p=vtxs, rgb=rgb)\n",
    "    pts = cam2world @ obj2cam @ pts\n",
    "    tofig.extend([pts])\n",
    "v3d.make_fig(*tofig)"
   ]
  },
  {
   "cell_type": "code",
   "execution_count": null,
   "metadata": {},
   "outputs": [],
   "source": [
    "tofig = []\n",
    "camscaled = cams.replace(world_from_cam=cams.world_from_cam.replace(t=cams.world_from_cam.t * scalefactor))\n",
    "sceneptsscaled = pts3d.apply_transform(scaleT)\n",
    "barrels_trf = []\n",
    "tofig.extend([sceneptsscaled, camscaled])\n",
    "for i, cam in enumerate(camscaled):\n",
    "    cam2world = cam.world_from_cam\n",
    "    obj2cam = v3d.Transform.from_matrix(transforms[i])\n",
    "    rgb = np.zeros_like(vtxs, dtype=np.uint8)\n",
    "    rgb[:, 0] = 255\n",
    "    pts = v3d.Point3d(p=vtxs, rgb=rgb)\n",
    "    pts = cam2world @ obj2cam @ pts\n",
    "    barrels_trf.append(pts)\n",
    "    tofig.extend([pts])\n",
    "v3d.make_fig(*tofig)"
   ]
  },
  {
   "cell_type": "code",
   "execution_count": null,
   "metadata": {},
   "outputs": [],
   "source": [
    "i = 9\n",
    "v3d.make_fig(camscaled[i], sceneptsscaled, barrels_trf[i])"
   ]
  },
  {
   "cell_type": "code",
   "execution_count": null,
   "metadata": {},
   "outputs": [],
   "source": [
    "i = 9\n",
    "Image.fromarray(render_v3d(camscaled[i], dca.concat([sceneptsscaled, barrels_trf[i]]), radius=2))"
   ]
  },
  {
   "cell_type": "code",
   "execution_count": null,
   "metadata": {},
   "outputs": [],
   "source": [
    "mesh = trimesh.load(obj_path)\n",
    "vtxs = np.array(mesh.vertices)\n",
    "stuff = []\n",
    "stuff.append(pts3d)\n",
    "\n",
    "i = 9\n",
    "cam = cams[i]\n",
    "cam2world = cam.world_from_cam\n",
    "obj2cam = v3d.Transform.from_matrix(transforms[i])\n",
    "rgb = np.zeros_like(vtxs, dtype=np.uint8)\n",
    "rgb[:, 0] = 255\n",
    "pts = v3d.Point3d(p=vtxs, rgb=rgb)\n",
    "pts = cam2world @ obj2cam @ pts\n",
    "stuff.extend([pts, cam])\n",
    "Image.fromarray(render_v3d(cam, dca.concat([pts3d, pts]), radius=2))\n",
    "# Image.fromarray(render_v3d(cam, dca.concat([pts3d]), radius=2))"
   ]
  },
  {
   "cell_type": "code",
   "execution_count": null,
   "metadata": {},
   "outputs": [],
   "source": []
  }
 ],
 "metadata": {
  "kernelspec": {
   "display_name": "barrels",
   "language": "python",
   "name": "python3"
  },
  "language_info": {
   "codemirror_mode": {
    "name": "ipython",
    "version": 3
   },
   "file_extension": ".py",
   "mimetype": "text/x-python",
   "name": "python",
   "nbconvert_exporter": "python",
   "pygments_lexer": "ipython3",
   "version": "3.11.11"
  }
 },
 "nbformat": 4,
 "nbformat_minor": 2
}
