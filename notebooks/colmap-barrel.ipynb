{
 "cells": [
  {
   "cell_type": "code",
   "execution_count": 1,
   "metadata": {},
   "outputs": [],
   "source": [
    "%load_ext autoreload\n",
    "%autoreload 2\n",
    "%matplotlib inline\n",
    "import os\n",
    "import sys\n",
    "module_path = os.path.abspath(os.path.join(\"..\"))\n",
    "if module_path not in sys.path:\n",
    "    sys.path.append(module_path)"
   ]
  },
  {
   "cell_type": "code",
   "execution_count": 2,
   "metadata": {},
   "outputs": [],
   "source": [
    "import os\n",
    "from pathlib import Path\n",
    "\n",
    "import matplotlib.pyplot as plt\n",
    "import numpy as np\n",
    "import pycolmap\n",
    "import sqlite3\n",
    "import visu3d as v3d\n",
    "\n",
    "import burybarrel.colmap_util as cutil"
   ]
  },
  {
   "cell_type": "code",
   "execution_count": 6,
   "metadata": {},
   "outputs": [],
   "source": [
    "image_dir = Path(\"../data/dive-data/Dive8/clips/barrelddt1\")\n",
    "\n",
    "reconstr_path = Path(f\"../results/{image_dir.name}-reconstr\")\n",
    "output_path = reconstr_path / \"colmap-out\"\n",
    "output_path.mkdir(parents=True, exist_ok=True)\n",
    "(reconstr_path / \"openmvs-out\").mkdir(exist_ok=True)\n",
    "(reconstr_path / \"masks\").mkdir(exist_ok=True)\n",
    "mvs_path = output_path / \"mvs\"\n",
    "database_path = output_path / \"database.db\""
   ]
  },
  {
   "cell_type": "code",
   "execution_count": 7,
   "metadata": {},
   "outputs": [],
   "source": [
    "# camera = pycolmap.Camera(\n",
    "#     model=\"RADIAL\",\n",
    "#     width=1920,\n",
    "#     height=875,\n",
    "#     params=[1246, 960, 420, -0.123, -0.015]\n",
    "# )\n",
    "# camera = pycolmap.Camera(\n",
    "#     model=\"SIMPLE_PINHOLE\",\n",
    "#     width=1920,\n",
    "#     height=875,\n",
    "#     # params=[1246, 960, 420],\n",
    "#     params=[500, 960, 420],\n",
    "# )\n",
    "camera = pycolmap.Camera(\n",
    "    model=\"PINHOLE\",\n",
    "    width=1920,\n",
    "    height=875,\n",
    "    params=[1246, 1246, 960, 420],\n",
    "    # params=[500, 500, 960, 420],\n",
    ")"
   ]
  },
  {
   "cell_type": "code",
   "execution_count": null,
   "metadata": {},
   "outputs": [],
   "source": [
    "pycolmap.extract_features(\n",
    "    database_path,\n",
    "    image_dir,\n",
    "    camera_model=camera.model.name,\n",
    "    reader_options={\"camera_model\": camera.model.name, \"camera_params\": camera.params_to_string()},\n",
    "    sift_options={\n",
    "        \"domain_size_pooling\": True,\n",
    "        \"edge_threshold\":  5.0,\n",
    "        \"peak_threshold\":  1 / 200,\n",
    "        \"max_num_orientations\": 3,\n",
    "        \"num_octaves\": 8,\n",
    "        \"octave_resolution\": 6,\n",
    "        \"num_threads\": 4,\n",
    "        \"estimate_affine_shape\": True,\n",
    "        \"dsp_max_scale\": 6.0,\n",
    "        \"dsp_min_scale\": 0.08,\n",
    "        \"dsp_num_scales\": 20,\n",
    "    }\n",
    ")"
   ]
  },
  {
   "cell_type": "code",
   "execution_count": null,
   "metadata": {},
   "outputs": [],
   "source": [
    "images = cutil.get_images(database_path)\n",
    "all_keypoints, all_descriptors = cutil.get_features(database_path)\n",
    "\n",
    "idx = 0\n",
    "img = images[idx]\n",
    "kp = all_keypoints[idx]\n",
    "plt.imshow(plt.imread(image_dir / img.name))\n",
    "plt.scatter(kp[:, 0], kp[:, 1], s=1, c=\"r\")\n",
    "plt.show()"
   ]
  },
  {
   "cell_type": "code",
   "execution_count": null,
   "metadata": {},
   "outputs": [],
   "source": [
    "images"
   ]
  },
  {
   "cell_type": "code",
   "execution_count": null,
   "metadata": {},
   "outputs": [],
   "source": [
    "pycolmap.match_exhaustive(\n",
    "    database_path,\n",
    "    matching_options={\"block_size\": 10},\n",
    "    verification_options={\n",
    "        \"detect_watermark\": False\n",
    "    }\n",
    ")"
   ]
  },
  {
   "cell_type": "code",
   "execution_count": null,
   "metadata": {},
   "outputs": [],
   "source": [
    "maps = pycolmap.incremental_mapping(\n",
    "    database_path, image_dir, output_path,\n",
    "    options={\n",
    "        \"ba_global_function_tolerance\": 1e-2,\n",
    "        \"ba_local_function_tolerance\": 1e-2,\n",
    "        \"init_num_trials\": 400,\n",
    "        # \"init_image_id1\": 1,\n",
    "        # \"init_image_id2\": 2,\n",
    "    }\n",
    ")"
   ]
  },
  {
   "cell_type": "code",
   "execution_count": null,
   "metadata": {},
   "outputs": [],
   "source": [
    "maps"
   ]
  },
  {
   "cell_type": "code",
   "execution_count": null,
   "metadata": {},
   "outputs": [],
   "source": [
    "# dense reconstruction\n",
    "pycolmap.undistort_images(\n",
    "    mvs_path,\n",
    "    output_path / \"0\",\n",
    "    image_dir,\n",
    "    output_type=\"COLMAP\",\n",
    ")"
   ]
  },
  {
   "cell_type": "code",
   "execution_count": null,
   "metadata": {},
   "outputs": [],
   "source": [
    "reconstruction = pycolmap.Reconstruction(output_path / \"0\")\n",
    "print(reconstruction.summary())"
   ]
  },
  {
   "cell_type": "code",
   "execution_count": null,
   "metadata": {},
   "outputs": [],
   "source": [
    "reconstruction.images"
   ]
  },
  {
   "cell_type": "code",
   "execution_count": null,
   "metadata": {},
   "outputs": [],
   "source": [
    "pts, cols = cutil.get_pc(reconstruction)\n",
    "ptcloud = v3d.Point3d(p=pts, rgb=cols)\n",
    "ptcloud.fig"
   ]
  }
 ],
 "metadata": {
  "kernelspec": {
   "display_name": "barrels",
   "language": "python",
   "name": "python3"
  },
  "language_info": {
   "codemirror_mode": {
    "name": "ipython",
    "version": 3
   },
   "file_extension": ".py",
   "mimetype": "text/x-python",
   "name": "python",
   "nbconvert_exporter": "python",
   "pygments_lexer": "ipython3",
   "version": "3.11.9"
  }
 },
 "nbformat": 4,
 "nbformat_minor": 2
}
