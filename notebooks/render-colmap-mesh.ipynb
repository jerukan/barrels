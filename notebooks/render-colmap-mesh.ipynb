{
 "cells": [
  {
   "cell_type": "code",
   "execution_count": 1,
   "metadata": {},
   "outputs": [],
   "source": [
    "%load_ext autoreload\n",
    "%autoreload 2\n",
    "%matplotlib inline\n",
    "import os\n",
    "import sys\n",
    "module_path = os.path.abspath(os.path.join(\"..\"))\n",
    "if module_path not in sys.path:\n",
    "    sys.path.append(module_path)"
   ]
  },
  {
   "cell_type": "code",
   "execution_count": 2,
   "metadata": {},
   "outputs": [],
   "source": [
    "from pathlib import Path\n",
    "from typing import List\n",
    "\n",
    "import dataclass_array as dca\n",
    "import matplotlib.pyplot as plt\n",
    "import mitsuba as mi\n",
    "import numpy as np\n",
    "from PIL import Image\n",
    "import pycolmap\n",
    "import pyrender\n",
    "import trimesh\n",
    "import visu3d as v3d\n",
    "\n",
    "import burybarrel.colmap_util as cutil\n",
    "\n",
    "mi.set_variant(\"scalar_rgb\")\n",
    "# os.environ[\"PYOPENGL_PLATFORM\"] = None"
   ]
  },
  {
   "cell_type": "code",
   "execution_count": null,
   "metadata": {},
   "outputs": [],
   "source": [
    "# reconstr_path = Path(\"../results/barrelddt1-reconstr\")\n",
    "reconstr_path = Path(\"../results/barrel4-manual-reconstr\")\n",
    "# reconstr_path = Path(\"../results/dive1-depthcharge-16-09-trimend-reconstr\")\n",
    "\n",
    "# output_path = Path(\"../results/barrelddt1-reconstr/colmap-out/0\")\n",
    "output_path = reconstr_path / \"colmap-out/0\"\n",
    "reconstruction = pycolmap.Reconstruction(output_path)\n",
    "print(reconstruction.summary())"
   ]
  },
  {
   "cell_type": "code",
   "execution_count": null,
   "metadata": {},
   "outputs": [],
   "source": [
    "p, c = cutil.get_pc(reconstruction)\n",
    "pts3d = v3d.Point3d(p=p, rgb=c)\n",
    "\n",
    "camlisttmp: List[v3d.Camera] = []\n",
    "names = []\n",
    "for img in reconstruction.images.values():\n",
    "    spec = v3d.PinholeCamera.from_focal(resolution=(img.camera.height, img.camera.width), focal_in_px=img.camera.focal_length)\n",
    "    T = v3d.Transform.from_matrix(img.cam_from_world.matrix()).inv\n",
    "    camlisttmp.append(v3d.Camera(spec=spec, world_from_cam=T))\n",
    "    names.append(img.name)\n",
    "cams: v3d.Camera = dca.stack(camlisttmp)\n",
    "v3d.make_fig([pts3d, cams])"
   ]
  },
  {
   "cell_type": "code",
   "execution_count": 20,
   "metadata": {},
   "outputs": [],
   "source": [
    "W = cams.spec.resolution[1]\n",
    "H = cams.spec.resolution[0]\n",
    "renderer = pyrender.OffscreenRenderer(W, H)\n",
    "\n",
    "for i, cam in enumerate(cams):\n",
    "    K = cam.spec.K\n",
    "    yfov = 2 * np.arctan((cam.spec.resolution[0] / 2) / cam.spec.K[0, 0])\n",
    "    camera = pyrender.IntrinsicsCamera(K[0, 0], K[1, 1], K[0, 2], K[1, 2])\n",
    "    # camera = pyrender.PerspectiveCamera(yfov=yfov, aspectRatio=W / H)\n",
    "    T = mi.Transform4f(cam.world_from_cam.matrix4x4).rotate([1, 0, 0], 180).matrix.numpy()\n",
    "    # T = mi.Transform4f().look_at(\n",
    "    #         origin=[2.0, 2.0, 2.0],\n",
    "    #         target=[0.0, 0.0, 0.0],\n",
    "    #         up=[0.0, 0.0, 1.0],\n",
    "    # ).matrix.numpy()\n",
    "    # scenetrimesh = trimesh.load(\"../results/barrelddt1-reconstr/openmvs-out/scene_dense_mesh_refine.ply\")\n",
    "    scenetrimesh = trimesh.load(reconstr_path / \"openmvs-out/scene_dense_mesh_refine.ply\")\n",
    "    # scenetrimesh = trimesh.load(\"../results/barrelddt1-reconstr/openmvs-out/scene_dense_mesh_refine_texture.ply\")\n",
    "    # scenetrimesh = trimesh.load(\"../../models3d/barrelsingle-scaled.ply\")\n",
    "    scenemesh = pyrender.Mesh.from_trimesh(scenetrimesh)\n",
    "    # light = pyrender.PointLight(color=[1.0, 1.0, 1.0], intensity=500.0)\n",
    "    light = pyrender.SpotLight(\n",
    "        color=np.ones(3),\n",
    "        intensity=500.0,\n",
    "        innerConeAngle=np.pi / 16.0,\n",
    "        outerConeAngle=np.pi / 6.0,\n",
    "    )\n",
    "    scene = pyrender.Scene(bg_color=[0, 0, 0], ambient_light=[0.02, 0.02, 0.02])\n",
    "    scene.add(scenemesh, pose=np.eye(4))\n",
    "    scene.add(camera, pose=T)\n",
    "    scene.add(light, pose=T)\n",
    "    color, depth = renderer.render(scene)\n",
    "    img = Image.fromarray(color)\n",
    "    name = Path(names[i]).stem\n",
    "    (reconstr_path / \"mesh-renders\").mkdir(exist_ok=True)\n",
    "    img.save(reconstr_path / f\"mesh-renders/{name}_meshrender.png\")\n",
    "renderer.delete()"
   ]
  },
  {
   "cell_type": "code",
   "execution_count": null,
   "metadata": {},
   "outputs": [],
   "source": [
    "fuze_trimesh = trimesh.load(\"../../models3d/barrelsingle-scaled.ply\")\n",
    "mesh = pyrender.Mesh.from_trimesh(fuze_trimesh)\n",
    "camera = pyrender.PerspectiveCamera(yfov=np.pi / 3.0, aspectRatio=1.0)\n",
    "T = mi.Transform4f().look_at(\n",
    "        origin=[2.0, 0.0, 0.0],\n",
    "        target=[0.0, 0.0, 0.0],\n",
    "        up=[0.0, 0.0, 1.0],\n",
    ").rotate([0,1,0], 180).matrix.numpy()\n",
    "# T = np.array([\n",
    "#     [1.0, 0, 0, 1],\n",
    "#     [0, 1, 0, 0],\n",
    "#     [0, 0, 1, 2],\n",
    "#     [0, 0, 0, 1],\n",
    "# ])\n",
    "pl = pyrender.PointLight(color=[1.0, 1.0, 1.0], intensity=10.0)\n",
    "scene = pyrender.Scene(bg_color=[0, 0, 0])\n",
    "scene.add(mesh)\n",
    "scene.add(camera, pose=T)\n",
    "scene.add(pl, pose=T)\n",
    "r = pyrender.OffscreenRenderer(400, 400)\n",
    "color, depth = r.render(scene)\n",
    "Image.fromarray(color)"
   ]
  }
 ],
 "metadata": {
  "kernelspec": {
   "display_name": "barrels",
   "language": "python",
   "name": "python3"
  },
  "language_info": {
   "codemirror_mode": {
    "name": "ipython",
    "version": 3
   },
   "file_extension": ".py",
   "mimetype": "text/x-python",
   "name": "python",
   "nbconvert_exporter": "python",
   "pygments_lexer": "ipython3",
   "version": "3.11.11"
  }
 },
 "nbformat": 4,
 "nbformat_minor": 2
}
