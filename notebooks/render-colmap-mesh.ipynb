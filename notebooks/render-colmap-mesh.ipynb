{
 "cells": [
  {
   "cell_type": "code",
   "execution_count": 1,
   "metadata": {},
   "outputs": [],
   "source": [
    "%load_ext autoreload\n",
    "%autoreload 2\n",
    "%matplotlib inline\n",
    "import os\n",
    "import sys\n",
    "module_path = os.path.abspath(os.path.join(\"..\"))\n",
    "if module_path not in sys.path:\n",
    "    sys.path.append(module_path)"
   ]
  },
  {
   "cell_type": "code",
   "execution_count": 2,
   "metadata": {},
   "outputs": [],
   "source": [
    "from pathlib import Path\n",
    "from typing import List\n",
    "\n",
    "import dataclass_array as dca\n",
    "import matplotlib.pyplot as plt\n",
    "import mitsuba as mi\n",
    "import numpy as np\n",
    "from PIL import Image\n",
    "import pycolmap\n",
    "import pyrender\n",
    "import torch\n",
    "import trimesh\n",
    "import visu3d as v3d\n",
    "\n",
    "import burybarrel.colmap_util as cutil\n",
    "\n",
    "if torch.cuda.is_available():\n",
    "    os.environ[\"PYOPENGL_PLATFORM\"] = \"egl\"\n",
    "    mi.set_variant(\"cuda_ad_rgb\")\n",
    "else:\n",
    "    mi.set_variant(\"scalar_rgb\")"
   ]
  },
  {
   "cell_type": "code",
   "execution_count": null,
   "metadata": {},
   "outputs": [],
   "source": [
    "reconstr_path = Path(\"/scratch/jeyan/barreldata/results/barrelddt1\")\n",
    "# reconstr_path = Path(\"/scratch/jeyan/barreldata/results/barrel4\")\n",
    "# reconstr_path = Path(\"../results/dive1-depthcharge-16-09-trimend-reconstr\")\n",
    "\n",
    "output_path = reconstr_path / \"colmap-out/0\"\n",
    "reconstruction = pycolmap.Reconstruction(output_path)\n",
    "print(reconstruction.summary())"
   ]
  },
  {
   "cell_type": "code",
   "execution_count": null,
   "metadata": {},
   "outputs": [],
   "source": [
    "p, c = cutil.get_pc(reconstruction)\n",
    "pts3d = v3d.Point3d(p=p, rgb=c)\n",
    "\n",
    "camlisttmp: List[v3d.Camera] = []\n",
    "names = []\n",
    "for img in reconstruction.images.values():\n",
    "    spec = v3d.PinholeCamera.from_focal(resolution=(img.camera.height, img.camera.width), focal_in_px=img.camera.focal_length)\n",
    "    T = v3d.Transform.from_matrix(img.cam_from_world.matrix()).inv\n",
    "    camlisttmp.append(v3d.Camera(spec=spec, world_from_cam=T))\n",
    "    names.append(img.name)\n",
    "cams: v3d.Camera = dca.stack(camlisttmp)\n",
    "v3d.make_fig([pts3d, cams])"
   ]
  },
  {
   "cell_type": "code",
   "execution_count": null,
   "metadata": {},
   "outputs": [],
   "source": [
    "print(list(reconstruction.images.values())[0].summary())"
   ]
  },
  {
   "cell_type": "code",
   "execution_count": null,
   "metadata": {},
   "outputs": [],
   "source": [
    "avgK = np.mean(cams.spec.K, axis=0).astype(float)\n",
    "print(avgK)\n",
    "caminfo = {\n",
    "    \"cx\": avgK[0, 2],\n",
    "    \"cy\": avgK[1, 2],\n",
    "    \"fx\": avgK[0, 0],\n",
    "    \"fy\": avgK[0, 0],\n",
    "    \"width\": cams.spec.resolution[1],\n",
    "    \"height\": cams.spec.resolution[0],\n",
    "}\n",
    "import json\n",
    "\n",
    "with open(reconstr_path / \"camera.json\", \"wt\") as f:\n",
    "    json.dump(caminfo, f)"
   ]
  },
  {
   "cell_type": "code",
   "execution_count": 8,
   "metadata": {},
   "outputs": [],
   "source": [
    "W = cams.spec.resolution[1]\n",
    "H = cams.spec.resolution[0]\n",
    "renderer = pyrender.OffscreenRenderer(W, H)\n",
    "\n",
    "for i, cam in enumerate(cams):\n",
    "    K = cam.spec.K\n",
    "    yfov = 2 * np.arctan((cam.spec.resolution[0] / 2) / cam.spec.K[0, 0])\n",
    "    camera = pyrender.IntrinsicsCamera(K[0, 0], K[1, 1], K[0, 2], K[1, 2])\n",
    "    T = mi.Transform4f(cam.world_from_cam.matrix4x4).rotate([1, 0, 0], 180).matrix.numpy().reshape(4, 4)\n",
    "    scenetrimesh = trimesh.load(reconstr_path / \"openmvs-out/scene_dense_mesh_refine.ply\")\n",
    "    scenemesh = pyrender.Mesh.from_trimesh(scenetrimesh)\n",
    "    light = pyrender.SpotLight(\n",
    "        color=np.ones(3),\n",
    "        intensity=500.0,\n",
    "        innerConeAngle=np.pi / 16.0,\n",
    "        outerConeAngle=np.pi / 6.0,\n",
    "    )\n",
    "    scene = pyrender.Scene(bg_color=[0, 0, 0], ambient_light=[0.02, 0.02, 0.02])\n",
    "    scene.add(scenemesh, pose=np.eye(4))\n",
    "    scene.add(camera, pose=T)\n",
    "    scene.add(light, pose=T)\n",
    "    color, depth = renderer.render(scene)\n",
    "    img = Image.fromarray(color)\n",
    "    name = Path(names[i]).stem\n",
    "    (reconstr_path / \"mesh-renders\").mkdir(exist_ok=True)\n",
    "    img.save(reconstr_path / f\"mesh-renders/{name}.png\")\n",
    "renderer.delete()"
   ]
  }
 ],
 "metadata": {
  "kernelspec": {
   "display_name": "barrels",
   "language": "python",
   "name": "python3"
  },
  "language_info": {
   "codemirror_mode": {
    "name": "ipython",
    "version": 3
   },
   "file_extension": ".py",
   "mimetype": "text/x-python",
   "name": "python",
   "nbconvert_exporter": "python",
   "pygments_lexer": "ipython3",
   "version": "3.11.11"
  }
 },
 "nbformat": 4,
 "nbformat_minor": 2
}
