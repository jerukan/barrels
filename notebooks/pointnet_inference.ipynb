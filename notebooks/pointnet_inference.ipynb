{
 "cells": [
  {
   "cell_type": "markdown",
   "metadata": {},
   "source": [
    "# BarrelNet Inference Notebook\n",
    "This Notebook will run the code to run an inference pipeline for the trained Model, given a single Barrel point cloud sample as input. "
   ]
  },
  {
   "cell_type": "code",
   "execution_count": null,
   "metadata": {},
   "outputs": [],
   "source": [
    "%load_ext autoreload\n",
    "%autoreload 2\n",
    "%matplotlib inline\n",
    "import os\n",
    "import sys\n",
    "module_path = os.path.abspath(os.path.join(\"..\"))\n",
    "if module_path not in sys.path:\n",
    "    sys.path.append(module_path)"
   ]
  },
  {
   "cell_type": "code",
   "execution_count": null,
   "metadata": {},
   "outputs": [],
   "source": [
    "import os\n",
    "from pathlib import Path\n",
    "\n",
    "import dill as pickle\n",
    "import numpy as np\n",
    "from tqdm import tqdm\n",
    "import matplotlib.pyplot as plt\n",
    "import torch\n",
    "import plotly.graph_objects as go\n",
    "import visu3d as v3d\n",
    "import transforms3d as t3d\n",
    "\n",
    "from burybarrel.transform import icp_translate\n",
    "from burybarrel.plotting import get_ray_trace\n",
    "from burybarrel.barrelnet.barrelnet import BarrelNet\n",
    "from burybarrel.barrelnet.data import pts2inference_format\n",
    "from burybarrel.synthbarrel import Cylinder, generate_oriented_barrel"
   ]
  },
  {
   "cell_type": "code",
   "execution_count": null,
   "metadata": {},
   "outputs": [],
   "source": [
    "def get_trial_var(trialresults, varname):\n",
    "    return [trial[varname] for trial in trialresults]"
   ]
  },
  {
   "cell_type": "markdown",
   "metadata": {},
   "source": [
    "## Loading the occluded dataset (need to use Pointnet generation code)"
   ]
  },
  {
   "cell_type": "code",
   "execution_count": null,
   "metadata": {},
   "outputs": [],
   "source": [
    "with open(\"../data/synthbarrel/testbarrels_1000_fixed.pkl\", \"rb\") as f:\n",
    "    synthdict = pickle.load(f)\n",
    "print(synthdict.keys())"
   ]
  },
  {
   "cell_type": "code",
   "execution_count": null,
   "metadata": {},
   "outputs": [],
   "source": [
    "## Load Model \n",
    "model_path = \"../checkpoints/pointnet_iter80_fixed.pth\"\n",
    "pointnet = BarrelNet(k=5, normal_channel=False)\n",
    "pointnet.load_state_dict(torch.load(model_path))\n",
    "pointnet.cuda().eval()"
   ]
  },
  {
   "cell_type": "code",
   "execution_count": null,
   "metadata": {},
   "outputs": [],
   "source": [
    "# cylnp = random_cylinder_surf([0, 0, 0], [0, 0, height_ratio], 1, 5000).astype(np.float32)\n",
    "# radius predicted: fraction of height\n",
    "# normalized space: height is fixed at 1\n",
    "# height_ratio = 2.5  # height / radius ratio\n",
    "cylh = 1\n",
    "ntrials = synthdict[\"radii\"].shape[0]\n",
    "\n",
    "trialresults = []\n",
    "# for i in tqdm(range(ntrials)):\n",
    "for i in tqdm(range(20)):\n",
    "    results = {}\n",
    "    cylnp = synthdict[\"pts\"][i].numpy()\n",
    "    axtruth = synthdict[\"axis_vectors\"][i]\n",
    "    rtruth = synthdict[\"radii\"][i].numpy()\n",
    "    # height in generated data is fixed at 1\n",
    "    yoffsettruth = synthdict[\"burial_offsets\"][i]\n",
    "    cyltruth = Cylinder.from_axis(axtruth, rtruth, 1, c=[0, yoffsettruth, 0])\n",
    "    \n",
    "    results[\"cyltruth\"] = cyltruth\n",
    "    results[\"burialtruth\"] = cyltruth.get_volume_ratio_monte(5000, planecoeffs=[0, 1, 0, 0])\n",
    "\n",
    "    axis_pred, r, h, y = pointnet.predict_np(cylnp, height_radius_ratio=1/rtruth)\n",
    "    \n",
    "    cylpred = Cylinder.from_axis(axis_pred, r, h, c=[0, y, 0])\n",
    "    predsurfpts = cylpred.get_random_pts_surf(5000)\n",
    "    translation = icp_translate(cylnp, predsurfpts, max_iters=5, ntheta=0, nphi=0)\n",
    "    cylpred = cylpred.translate(-translation)\n",
    "    \n",
    "    results[\"cylpred\"] = cylpred\n",
    "    results[\"burialpred\"] = cylpred.get_volume_ratio_monte(5000, planecoeffs=[0, 1, 0, 0])\n",
    "\n",
    "    # print(\"ahAHSFHJKSADHJKFSDHJKDFSHJKFSAD\")\n",
    "    # print(axis_pred, r, h, y)\n",
    "    # print(axtruth, rtruth, h, yoffsettruth / h)\n",
    "    \n",
    "    trialresults.append(results)\n",
    "\n",
    "    # print(\"TRUTH\")\n",
    "    # print(f\"axis: {cylax}\\nradius: {cylr}\\nheight: {cylh}\\nz-offset: {cylz}\")\n",
    "    # print(f\"burial percentage: {burialtruth}\")\n",
    "    # print(\"PREDICTED\")\n",
    "    # print(radius_pred, zshift_pred, axis_pred)\n",
    "    # print(f\"axis: {axis_pred}\\nradius: {r}\\nheight: {h}\\nz-offset: {z}\")\n",
    "    # print(f\"burial percentage: {burialpred}\")\n",
    "\n",
    "    # truthray = v3d.Ray(pos=[0,0,0], dir=cylax)\n",
    "    # predray = v3d.Ray(pos=[0,0,0], dir=axis_pred)\n",
    "    # v3d.make_fig([v3d.Point3d(p=cylnp), truthray, predray])\n",
    "with open(\"../results/pointnet_synth_results.pkl\", \"wb\") as f:\n",
    "    pickle.dump(trialresults, f)"
   ]
  },
  {
   "cell_type": "code",
   "execution_count": null,
   "metadata": {},
   "outputs": [],
   "source": [
    "with open(\"../results/pointnet_synth_results.pkl\", \"rb\") as f:\n",
    "    trialresults = pickle.load(f)"
   ]
  },
  {
   "cell_type": "code",
   "execution_count": null,
   "metadata": {},
   "outputs": [],
   "source": [
    "i = 15\n",
    "trialres = trialresults[i]\n",
    "cyltruth: Cylinder = trialres[\"cyltruth\"]\n",
    "cylpred: Cylinder = trialres[\"cylpred\"]\n",
    "truthray = v3d.Ray(pos=cyltruth.c, dir=cyltruth.axis)\n",
    "predray = v3d.Ray(pos=cylpred.c, dir=cylpred.axis)\n",
    "fig = v3d.make_fig([v3d.Point3d(p=synthdict[\"pts\"][i].numpy()), truthray, predray])\n",
    "x, y, z = cyltruth.get_pts_surf()\n",
    "cylsurftruth = go.Surface(\n",
    "    x=x, y=y, z=z,\n",
    "    colorscale=\"purples\",\n",
    "    #  showscale=False,\n",
    "    opacity=0.2)\n",
    "fig.add_trace(cylsurftruth)\n",
    "x, y, z = cylpred.get_pts_surf()\n",
    "cylsurfpred = go.Surface(\n",
    "    x=x, y=y, z=z,\n",
    "    colorscale=\"oranges\",\n",
    "    #  showscale=False,\n",
    "    opacity=0.2)\n",
    "fig.add_trace(cylsurfpred)\n",
    "fig.show()\n",
    "print(cyltruth.get_volume_ratio_monte(10000, planecoeffs=[0, 1, 0, 0]))\n",
    "print(cylpred.get_volume_ratio_monte(10000, planecoeffs=[0, 1, 0, 0]))"
   ]
  },
  {
   "cell_type": "code",
   "execution_count": null,
   "metadata": {},
   "outputs": [],
   "source": [
    "axtruths = np.array([cyl.axis for cyl in get_trial_var(trialresults, \"cyltruth\")])\n",
    "axpreds = np.array([cyl.axis for cyl in get_trial_var(trialresults, \"cylpred\")])\n",
    "cossims = np.abs(np.sum(axtruths * axpreds, axis=1))\n",
    "plt.hist(cossims)\n",
    "np.mean(cossims)"
   ]
  },
  {
   "cell_type": "code",
   "execution_count": null,
   "metadata": {},
   "outputs": [],
   "source": [
    "np.argmin(cossims)"
   ]
  },
  {
   "cell_type": "code",
   "execution_count": null,
   "metadata": {},
   "outputs": [],
   "source": [
    "np.sum(cossims < 0.9)"
   ]
  },
  {
   "cell_type": "code",
   "execution_count": null,
   "metadata": {},
   "outputs": [],
   "source": [
    "burialerrs = np.abs(np.array(get_trial_var(trialresults, \"burialtruth\")) - np.array(get_trial_var(trialresults, \"burialpred\")))\n",
    "plt.hist(burialerrs)\n",
    "np.mean(burialerrs)"
   ]
  },
  {
   "cell_type": "code",
   "execution_count": null,
   "metadata": {},
   "outputs": [],
   "source": [
    "i = 2\n",
    "trialres = trialresults[i]\n",
    "R = t3d.euler.euler2mat(np.pi/2, 0, 0)\n",
    "T_yup2zup = np.eye(4)\n",
    "T_yup2zup[:3, :3] = R\n",
    "cylnp = synthdict[\"pts\"][i].numpy()\n",
    "cylnp = (R @ cylnp.T).T\n",
    "fig = v3d.make_fig([v3d.Point3d(p=cylnp)])\n",
    "cyltruth: Cylinder = trialres[\"cyltruth\"].transform(T_yup2zup)\n",
    "# x1truth, x2truth  = get_cyl_endpoints(R @ trialres[\"axtruth\"], 1, trialres[\"yshifttruth\"], axidx=2)\n",
    "truthray = v3d.Ray(pos=cyltruth.c, dir=cyltruth.axis)\n",
    "x, y, z = cyltruth.get_pts_surf()\n",
    "cylsurftruth = go.Surface(\n",
    "    x=x, y=y, z=z,\n",
    "    colorscale=\"oranges\",\n",
    "    surfacecolor=np.zeros_like(x),\n",
    "    #  showscale=False,\n",
    "    opacity=0.5)\n",
    "fig.add_trace(cylsurftruth)\n",
    "fig.add_trace(get_ray_trace(pos=cyltruth.c, raydir=cyltruth.axis, color=\"#e81b00\", width=5, length=0.7))\n",
    "# fig.add_traces(get_surface_line_traces(x, y, z, include_horizontal=False, step=5))\n",
    "fig.update_scenes(xaxis_visible=False, yaxis_visible=False,zaxis_visible=False)\n",
    "xx, yy = np.meshgrid(np.linspace(-0.9, 0.9, 5), np.linspace(-0.9, 0.9, 5))\n",
    "zz = np.zeros_like(xx)\n",
    "planesurf = go.Surface(x=xx, y=yy, z=zz, opacity=1, colorscale=[(0, \"rgb(255,255,255)\"), (1, \"rgb(255,255,255)\")])\n",
    "fig.add_trace(planesurf)\n",
    "# fig.add_traces(get_surface_line_traces(xx, yy, zz))\n",
    "fig.show()"
   ]
  },
  {
   "cell_type": "markdown",
   "metadata": {},
   "source": [
    "## test icp (note doesn't work)"
   ]
  },
  {
   "cell_type": "code",
   "execution_count": null,
   "metadata": {},
   "outputs": [],
   "source": [
    "from sklearn.neighbors import KDTree\n",
    "\n",
    "def icp_translate(source_pc, target_pc, max_iters=20, tol=1e-3, verbose=False, ntheta=3, nphi=3):\n",
    "    \"\"\"source_pc assumed to be smaller than target\"\"\"\n",
    "    src_mean = np.mean(source_pc, axis=0)\n",
    "    targ_mean = np.mean(target_pc, axis=0)\n",
    "    scale = np.max(np.linalg.norm(target_pc - targ_mean, axis=1))\n",
    "\n",
    "    target_kd = KDTree(target_pc)\n",
    "    thetas = np.linspace(0, 2 * np.pi, ntheta + 1)[:-1]\n",
    "    phis = np.linspace(0, np.pi, nphi + 2)[1:-1]\n",
    "    alltheta, allphi = np.meshgrid(thetas, phis)\n",
    "    alltheta = alltheta.reshape(-1)\n",
    "    allphi = allphi.reshape(-1)\n",
    "    offset_choices = scale * np.array([np.sin(allphi) * np.cos(alltheta), np.sin(allphi) * np.sin(alltheta), np.cos(allphi)]).T\n",
    "    alltranslations = np.zeros((len(alltheta), 3))\n",
    "    allmeandists = np.zeros(len(alltheta))\n",
    "    for j, offset in enumerate(offset_choices):\n",
    "        # p = targ_mean - src_mean\n",
    "        p = (targ_mean + offset) - src_mean\n",
    "        prevdist = np.inf\n",
    "        K = max_iters\n",
    "        for i in range(K):\n",
    "            dists, close_idxs = target_kd.query(source_pc + p)\n",
    "            meandist = np.mean(dists)\n",
    "            targ_mean_filt = np.mean(target_pc[close_idxs], axis=0)\n",
    "            p = targ_mean_filt - src_mean\n",
    "            if np.abs(prevdist - meandist) < tol:\n",
    "                if verbose:\n",
    "                    print(f\"converged at iter {i}\")\n",
    "                break\n",
    "            prevdist = meandist\n",
    "            if i == K - 1:\n",
    "                if verbose:\n",
    "                    print(f\"max iters {K} reached before tolerance {tol}\")\n",
    "        allmeandists[j] = np.mean(meandist)\n",
    "        alltranslations[j, :] = p\n",
    "    bestidx = np.argmin(allmeandists)\n",
    "    pose = np.eye(4)\n",
    "    pose[:3, 3] = alltranslations[bestidx]\n",
    "    return pose"
   ]
  },
  {
   "cell_type": "code",
   "execution_count": null,
   "metadata": {},
   "outputs": [],
   "source": [
    "%timeit T = icp_translate(cylnp, randptssurfpred, max_iters=5, verbose=False, ntheta=3, nphi=2)"
   ]
  },
  {
   "cell_type": "code",
   "execution_count": null,
   "metadata": {},
   "outputs": [],
   "source": [
    "i = 131\n",
    "cylnp = synthdict[\"pts\"][i].numpy().astype(np.float32)\n",
    "np.random.seed(5)\n",
    "cylnp[:, :] += np.random.uniform(-2, 2, 3)\n",
    "cylpc = v3d.Point3d(p=cylnp)\n",
    "trialres = trialresults[i]\n",
    "x1truth, x2truth  = get_cyl_endpoints(trialres[\"axtruth\"], 1, trialres[\"yoffsettruth\"], axidx=1)\n",
    "x1pred, x2pred  = get_cyl_endpoints(trialres[\"axpred\"], 1, trialres[\"yshiftpred\"], axidx=1)\n",
    "x, y, z = get_cylinder_surf(x1pred, x2pred, trialres[\"rpred\"])\n",
    "origcylsurfpred = go.Surface(\n",
    "    x=x, y=y, z=z,\n",
    "    colorscale=\"purples\",\n",
    "    opacity=0.2)\n",
    "randptssurfpred = random_cylinder_surf(x1truth, x2truth, trialres[\"rtruth\"], 10000)\n",
    "T = icp_translate(cylnp, randptssurfpred, max_iters=10, verbose=False, ntheta=3, nphi=3)\n",
    "print(T)\n",
    "x1pred -= T[:3, 3]\n",
    "x2pred -= T[:3, 3]\n",
    "centroid_truth = (x1truth + x2truth) / 2\n",
    "centroid_pred = (x1pred + x2pred) / 2\n",
    "truthray = v3d.Ray(pos=centroid_truth, dir=trialres[\"axtruth\"])\n",
    "predray = v3d.Ray(pos=centroid_pred, dir=trialres[\"axpred\"])\n",
    "fig = v3d.make_fig([cylpc, predray])\n",
    "x, y, z = get_cylinder_surf(x1pred, x2pred, trialres[\"rpred\"])\n",
    "cylsurfpred = go.Surface(\n",
    "    x=x, y=y, z=z,\n",
    "    colorscale=\"oranges\",\n",
    "    opacity=0.2)\n",
    "fig.add_trace(cylsurfpred)\n",
    "fig.add_trace(origcylsurfpred)\n",
    "fig.show()\n",
    "print(monte_carlo_volume_ratio(10000, x1truth, x2truth, trialres[\"rtruth\"], 0, 1, 0, 0))\n",
    "print(monte_carlo_volume_ratio(10000, x1pred, x2pred, trialres[\"rpred\"], 0, 1, 0, 0))"
   ]
  }
 ],
 "metadata": {
  "kernelspec": {
   "display_name": "dust3r",
   "language": "python",
   "name": "python3"
  },
  "language_info": {
   "codemirror_mode": {
    "name": "ipython",
    "version": 3
   },
   "file_extension": ".py",
   "mimetype": "text/x-python",
   "name": "python",
   "nbconvert_exporter": "python",
   "pygments_lexer": "ipython3",
   "version": "3.11.9"
  }
 },
 "nbformat": 4,
 "nbformat_minor": 2
}
