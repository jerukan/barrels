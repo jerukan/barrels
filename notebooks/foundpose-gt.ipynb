{
 "cells": [
  {
   "cell_type": "markdown",
   "metadata": {},
   "source": [
    "# ground truth for foundpose\n",
    "\n",
    "generate ground truth pose from COLMAP reconstructed camera poses + manually found world pose"
   ]
  },
  {
   "cell_type": "code",
   "execution_count": null,
   "metadata": {},
   "outputs": [],
   "source": [
    "%load_ext autoreload\n",
    "%autoreload 2\n",
    "%matplotlib inline\n",
    "import os\n",
    "import sys\n",
    "module_path = os.path.abspath(os.path.join(\"..\"))\n",
    "if module_path not in sys.path:\n",
    "    sys.path.append(module_path)"
   ]
  },
  {
   "cell_type": "code",
   "execution_count": null,
   "metadata": {},
   "outputs": [],
   "source": [
    "import json\n",
    "from pathlib import Path\n",
    "from typing import List\n",
    "\n",
    "import cv2\n",
    "import numpy as np\n",
    "from PIL import Image\n",
    "import plotly.graph_objects as go\n",
    "import pyrender\n",
    "from tqdm import tqdm\n",
    "import transforms3d as t3d\n",
    "import trimesh\n",
    "import visu3d as v3d\n",
    "import yaml\n",
    "\n",
    "import burybarrel.colmap_util as cutil\n",
    "from burybarrel.image import render_v3d, render_models, to_contour\n",
    "from burybarrel.camera import load_v3dcams\n",
    "from burybarrel.utils import add_to_json\n",
    "from burybarrel.plotting import get_surface_line_traces, get_ray_trace"
   ]
  },
  {
   "cell_type": "code",
   "execution_count": null,
   "metadata": {},
   "outputs": [],
   "source": [
    "name = \"dive8-barrel-14-32\"\n",
    "datadir = Path(f\"/Users/jerry/Projects/ms-stuff/barrel-playground/barrels/data/input_data/{name}\")\n",
    "resdir = Path(f\"/Users/jerry/Projects/ms-stuff/barrel-playground/barrels/results/{name}\")\n",
    "camposes_path = resdir / \"colmap-out/cam_poses.json\"\n",
    "\n",
    "infopath = Path(\"../configs/blender_gt_info.yaml\")\n",
    "with open(infopath, \"rt\") as f:\n",
    "    allinfo = yaml.safe_load(f)\n",
    "info = allinfo[name]\n",
    "model_path = Path(\"/Users/jerry/Projects/ms-stuff/barrel-playground/models3d\") / info[\"object_name\"]\n",
    "cams, imgpaths = load_v3dcams(camposes_path, img_parent=datadir / \"rgb\")\n",
    "scalefactor = info[\"scalefactor\"]\n",
    "\n",
    "def T_from_blender(Reuler, t, scalefactor):\n",
    "    R = t3d.euler.euler2mat(*(np.array(Reuler) * np.pi / 180))\n",
    "    t = np.array(t) * (1 / scalefactor)\n",
    "    T = np.eye(4)\n",
    "    T[:3, :3] = R\n",
    "    T[:3, 3] = t\n",
    "    T = v3d.Transform.from_matrix(T)\n",
    "    return T\n",
    "T_gt = T_from_blender(info[\"R\"], info[\"t\"], scalefactor)\n",
    "T_floor_gt = T_from_blender(info[\"R_floor\"], info[\"t_floor\"], scalefactor)\n",
    "imgs = np.array([cv2.cvtColor(cv2.imread(imgpath), cv2.COLOR_BGR2RGB) for imgpath in imgpaths])"
   ]
  },
  {
   "cell_type": "code",
   "execution_count": null,
   "metadata": {},
   "outputs": [],
   "source": [
    "mesh: trimesh.Trimesh = trimesh.load(model_path)\n",
    "meshvol = mesh.volume\n",
    "vtxs = np.array(mesh.vertices)\n",
    "rgb = np.zeros_like(vtxs, dtype=np.uint8)\n",
    "rgb[:, 0] = 255\n",
    "vtxs_p3d = v3d.Point3d(p=vtxs, rgb=rgb)"
   ]
  },
  {
   "cell_type": "code",
   "execution_count": null,
   "metadata": {},
   "outputs": [],
   "source": [
    "# scaled 3d\n",
    "camscaled = cams.replace(world_from_cam=cams.world_from_cam.replace(t=cams.world_from_cam.t * (1 / scalefactor)))\n",
    "gtoverlaydir = datadir / \"gt-overlays\"\n",
    "gtoverlaydir.mkdir(exist_ok=True)\n",
    "gttmp = gtoverlaydir / \"tmp\"\n",
    "gttmp.mkdir(exist_ok=True)\n",
    "# visualization of GT\n",
    "plane = trimesh.creation.box(extents=(10, 10, 0.01))\n",
    "for i, img in enumerate(tqdm(imgs)):\n",
    "    imgpath = imgpaths[i]\n",
    "    vtxs_trf = T_gt @ vtxs_p3d\n",
    "    rgb, _, _ = render_models(camscaled[i], mesh, T_gt, light_intensity=200.0)\n",
    "    # Image.fromarray(rgb).save(gttmp / f\"{imgpath.stem}.png\")\n",
    "    overlayimg = to_contour(rgb, color=(255, 0, 0), background=img)\n",
    "    # these won't actually be used, just for visual reference, jpg so it's smaller\n",
    "    Image.fromarray(overlayimg).save(gtoverlaydir / f\"{imgpath.stem}.jpg\")\n",
    "    # Image.fromarray(render_v3d(camscaled[i], vtxs_trf, radius=4, background=img)).save(gtoverlaydir / f\"{imgpaths[i].stem}.png\")\n",
    "    rgb_primitives, _, _ = render_models(camscaled[i], [mesh, plane], [T_gt, T_floor_gt], light_intensity=200.0, flags=pyrender.RenderFlags.NONE)\n",
    "    Image.fromarray(rgb_primitives).save(gtoverlaydir / f\"{imgpath.stem}_primitives.jpg\")"
   ]
  },
  {
   "cell_type": "code",
   "execution_count": null,
   "metadata": {},
   "outputs": [],
   "source": [
    "# idk\n",
    "floornorm = T_floor_gt.apply_to_dir(np.array([0, 0, 1]))\n",
    "zup_mesh_T = T_floor_gt.inv @ T_gt\n",
    "zup_mesh = mesh.copy().apply_transform(zup_mesh_T.matrix4x4)\n",
    "mesh_zvals = zup_mesh.vertices[:, 2]\n",
    "zmin, zmax = np.min(mesh_zvals), np.max(mesh_zvals)\n",
    "if zmin >= 0:\n",
    "    burial_ratio_z = 0\n",
    "else:\n",
    "    burial_ratio_z = abs(zmin) / (abs(zmin) + zmax)\n",
    "slicedmesh = trimesh.intersections.slice_mesh_plane(zup_mesh, [0, 0, 1], [0, 0, 0], cap=True)\n",
    "burial_ratio_vol = 1 - slicedmesh.volume / meshvol\n",
    "print(f\"vol burial: {burial_ratio_vol}, z level burial: {burial_ratio_z}\")\n",
    "xx, yy = np.meshgrid(np.linspace(-0.2, 0.2, 10), np.linspace(-0.2, 0.2, 10))\n",
    "zz = np.zeros_like(xx)\n",
    "raycent = np.mean(zup_mesh.vertices, axis=0)\n",
    "plane = go.Surface(x=xx, y=yy, z=zz, opacity=0.2)\n",
    "v3d.make_fig(v3d.Point3d(p=zup_mesh_T @ mesh.vertices), plane, *get_surface_line_traces(xx, yy, zz), get_ray_trace(raycent, [0, 0, 1], color=\"#ff4d00\", length=0.1, width=5, markersize=10))"
   ]
  },
  {
   "cell_type": "code",
   "execution_count": null,
   "metadata": {},
   "outputs": [],
   "source": [
    "obj2cams_truth = [cam.world_from_cam.inv @ T_gt for cam in camscaled]\n",
    "floor2cams_truth = [cam.world_from_cam.inv @ T_floor_gt for cam in camscaled]\n",
    "gt_data_list = []\n",
    "for i, (T, T_floor) in enumerate(zip(obj2cams_truth, floor2cams_truth)):\n",
    "    truthdata = {\n",
    "        \"img_path\": str(imgpaths[i]),\n",
    "        \"R\": T.R.tolist(),\n",
    "        \"t\": T.t.tolist(),\n",
    "        \"R_floor\": T_floor.R.tolist(),\n",
    "        \"t_floor\": T_floor.t.tolist(),\n",
    "    }\n",
    "    gt_data_list.append(truthdata)\n",
    "with open(datadir / \"gt_obj2cam.json\", \"wt\") as f:\n",
    "    json.dump(gt_data_list, f, indent=4)\n",
    "add_to_json({\"burial_ratio_vol\": burial_ratio_vol, \"burial_ratio_z\": burial_ratio_z}, datadir / \"info.json\")"
   ]
  }
 ],
 "metadata": {
  "kernelspec": {
   "display_name": "barrels",
   "language": "python",
   "name": "python3"
  },
  "language_info": {
   "codemirror_mode": {
    "name": "ipython",
    "version": 3
   },
   "file_extension": ".py",
   "mimetype": "text/x-python",
   "name": "python",
   "nbconvert_exporter": "python",
   "pygments_lexer": "ipython3",
   "version": "3.11.11"
  }
 },
 "nbformat": 4,
 "nbformat_minor": 2
}
