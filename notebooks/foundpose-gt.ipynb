{
 "cells": [
  {
   "cell_type": "markdown",
   "metadata": {},
   "source": [
    "# ground truth for foundpose\n",
    "\n",
    "generate ground truth pose from COLMAP reconstructed camera poses + manually found world pose"
   ]
  },
  {
   "cell_type": "code",
   "execution_count": null,
   "metadata": {},
   "outputs": [],
   "source": [
    "%load_ext autoreload\n",
    "%autoreload 2\n",
    "%matplotlib inline\n",
    "import os\n",
    "import sys\n",
    "module_path = os.path.abspath(os.path.join(\"..\"))\n",
    "if module_path not in sys.path:\n",
    "    sys.path.append(module_path)"
   ]
  },
  {
   "cell_type": "code",
   "execution_count": null,
   "metadata": {},
   "outputs": [],
   "source": [
    "import json\n",
    "from pathlib import Path\n",
    "from typing import List\n",
    "\n",
    "import cv2\n",
    "import numpy as np\n",
    "from PIL import Image\n",
    "from tqdm import tqdm\n",
    "import transforms3d as t3d\n",
    "import trimesh\n",
    "import visu3d as v3d\n",
    "import yaml\n",
    "\n",
    "import burybarrel.colmap_util as cutil\n",
    "from burybarrel.image import render_v3d, render_model, to_contour\n",
    "from burybarrel.camera import load_v3dcams"
   ]
  },
  {
   "cell_type": "code",
   "execution_count": null,
   "metadata": {},
   "outputs": [],
   "source": [
    "name = \"barrelddt1\"\n",
    "datadir = Path(f\"/Users/jerry/Projects/ms-stuff/barrel-playground/barrels/data/input_data/{name}\")\n",
    "resdir = Path(f\"/Users/jerry/Projects/ms-stuff/barrel-playground/barrels/results/{name}\")\n",
    "\n",
    "infopath = Path(\"../configs/blender_gt_info.yaml\")\n",
    "with open(infopath, \"rt\") as f:\n",
    "    allinfo = yaml.safe_load(f)\n",
    "info = allinfo[name]\n",
    "model_path = Path(info[\"model_path\"])\n",
    "camposes_path = Path(info[\"camposes_path\"])\n",
    "cams, imgpaths = load_v3dcams(camposes_path, img_parent=None)\n",
    "scalefactor = info[\"scalefactor\"]\n",
    "R_gt = t3d.euler.euler2mat(*(np.array(info[\"R\"]) * np.pi / 180))\n",
    "t_gt = np.array(info[\"t\"]) * (1 / scalefactor)\n",
    "T_gt = np.eye(4)\n",
    "T_gt[:3, :3] = R_gt\n",
    "T_gt[:3, 3] = t_gt\n",
    "T_gt = v3d.Transform.from_matrix(T_gt)\n",
    "imgs = np.array([cv2.cvtColor(cv2.imread(imgpath), cv2.COLOR_BGR2RGB) for imgpath in imgpaths])"
   ]
  },
  {
   "cell_type": "code",
   "execution_count": null,
   "metadata": {},
   "outputs": [],
   "source": [
    "mesh = trimesh.load(model_path)\n",
    "vtxs = np.array(mesh.vertices)\n",
    "rgb = np.zeros_like(vtxs, dtype=np.uint8)\n",
    "rgb[:, 0] = 255\n",
    "vtxs_p3d = v3d.Point3d(p=vtxs, rgb=rgb)"
   ]
  },
  {
   "cell_type": "code",
   "execution_count": null,
   "metadata": {},
   "outputs": [],
   "source": [
    "# scaled 3d\n",
    "camscaled = cams.replace(world_from_cam=cams.world_from_cam.replace(t=cams.world_from_cam.t * (1 / scalefactor)))\n",
    "gtoverlaydir = datadir / \"gt-overlays\"\n",
    "gtoverlaydir.mkdir(exist_ok=True)\n",
    "gttmp = gtoverlaydir / \"tmp\"\n",
    "gttmp.mkdir(exist_ok=True)\n",
    "for i, img in enumerate(tqdm(imgs)):\n",
    "    imgpath = imgpaths[i]\n",
    "    vtxs_trf = T_gt @ vtxs_p3d\n",
    "    rgb, _, _ = render_model(camscaled[i], mesh, T_gt, light_intensity=200.0)\n",
    "    Image.fromarray(rgb).save(gttmp / f\"{imgpath.stem}.png\")\n",
    "    overlayimg = to_contour(rgb, color=(255, 0, 0), background=img)\n",
    "    Image.fromarray(overlayimg).save(gtoverlaydir / f\"{imgpath.stem}.png\")\n",
    "    # Image.fromarray(render_v3d(camscaled[i], vtxs_trf, radius=4, background=img)).save(gtoverlaydir / f\"{imgpaths[i].stem}.png\")"
   ]
  },
  {
   "cell_type": "code",
   "execution_count": null,
   "metadata": {},
   "outputs": [],
   "source": [
    "obj2cams_truth = [cam.world_from_cam.inv @ T_gt for cam in camscaled]\n",
    "gt_data_list = []\n",
    "for i, T in enumerate(obj2cams_truth):\n",
    "    truthdata = {\n",
    "        \"img_path\": str(imgpaths[i]),\n",
    "        \"R\": T.R.tolist(),\n",
    "        \"t\": T.t.tolist(),\n",
    "    }\n",
    "    gt_data_list.append(truthdata)\n",
    "with open(datadir / \"gt_obj2cam.json\", \"wt\") as f:\n",
    "    json.dump(gt_data_list, f)"
   ]
  }
 ],
 "metadata": {
  "kernelspec": {
   "display_name": "barrels",
   "language": "python",
   "name": "python3"
  },
  "language_info": {
   "codemirror_mode": {
    "name": "ipython",
    "version": 3
   },
   "file_extension": ".py",
   "mimetype": "text/x-python",
   "name": "python",
   "nbconvert_exporter": "python",
   "pygments_lexer": "ipython3",
   "version": "3.11.11"
  }
 },
 "nbformat": 4,
 "nbformat_minor": 2
}
