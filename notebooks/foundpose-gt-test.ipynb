{
 "cells": [
  {
   "cell_type": "markdown",
   "metadata": {},
   "source": [
    "# generate ground truth pose from reconstructed camera poses + manually found world pose"
   ]
  },
  {
   "cell_type": "code",
   "execution_count": 1,
   "metadata": {},
   "outputs": [],
   "source": [
    "%load_ext autoreload\n",
    "%autoreload 2\n",
    "%matplotlib inline\n",
    "import os\n",
    "import sys\n",
    "module_path = os.path.abspath(os.path.join(\"..\"))\n",
    "if module_path not in sys.path:\n",
    "    sys.path.append(module_path)"
   ]
  },
  {
   "cell_type": "code",
   "execution_count": 2,
   "metadata": {},
   "outputs": [],
   "source": [
    "import json\n",
    "from pathlib import Path\n",
    "from typing import List\n",
    "\n",
    "import cv2\n",
    "import dataclass_array as dca\n",
    "import jax.numpy as jnp\n",
    "import matplotlib.pyplot as plt\n",
    "import mitsuba as mi\n",
    "import numpy as np\n",
    "from PIL import Image\n",
    "import pycolmap\n",
    "import pyrender\n",
    "import transforms3d as t3d\n",
    "import trimesh\n",
    "import visu3d as v3d\n",
    "\n",
    "import burybarrel.colmap_util as cutil\n",
    "from burybarrel.image import render_v3d"
   ]
  },
  {
   "cell_type": "code",
   "execution_count": 3,
   "metadata": {},
   "outputs": [],
   "source": [
    "# manually find from blender\n",
    "### barrelddt1 ###\n",
    "scalefactor = 0.2\n",
    "t_gt = np.array([-0.160665, -0.063128, 3.60226])\n",
    "blender_eulers = np.array([-49.6539, 0, 0]) * np.pi / 180\n",
    "### barrel4 ###\n",
    "# scalefactor = 0.68\n",
    "# t_gt = np.array([-3.3115, 1.55458, 3.30907])\n",
    "# blender_eulers = np.array([223.25, -11.152, 147.46]) * np.pi / 180\n",
    "\n",
    "R_gt = t3d.euler.euler2mat(*blender_eulers)\n",
    "T_gt = np.eye(4)\n",
    "T_gt[:3, :3] = R_gt\n",
    "T_gt[:3, 3] = t_gt\n",
    "T_gt = v3d.Transform.from_matrix(T_gt)"
   ]
  },
  {
   "cell_type": "code",
   "execution_count": null,
   "metadata": {},
   "outputs": [],
   "source": [
    "datadir = Path(\"/scratch/jeyan/barreldata/divedata/dive8/barrelddt1\")\n",
    "resdir = Path(\"/scratch/jeyan/barreldata/results/barrelddt1\")\n",
    "obj_path = Path(\"/scratch/jeyan/barreldata/models3d/barrelsingle-scaled.ply\")\n",
    "\n",
    "reconstr_path = resdir / \"colmap-out/0\"\n",
    "imgdir = datadir / \"rgb\"\n",
    "\n",
    "reconstruction = pycolmap.Reconstruction(reconstr_path)\n",
    "print(reconstruction.summary())\n",
    "imgpaths = sorted(list(imgdir.glob(\"*.png\")) + list(imgdir.glob(\"*.jpg\")))\n",
    "imgs = np.array([cv2.imread(imgpath) for imgpath in imgpaths])"
   ]
  },
  {
   "cell_type": "code",
   "execution_count": 5,
   "metadata": {},
   "outputs": [],
   "source": [
    "p, c = cutil.get_pc(reconstruction)\n",
    "pts3d = v3d.Point3d(p=p, rgb=c)\n",
    "cams = cutil.get_cams_v3d(reconstruction)\n",
    "# v3d.make_fig([cams, pts3d])"
   ]
  },
  {
   "cell_type": "code",
   "execution_count": 6,
   "metadata": {},
   "outputs": [],
   "source": [
    "mesh = trimesh.load(obj_path)\n",
    "vtxs = np.array(mesh.vertices)\n",
    "rgb = np.zeros_like(vtxs, dtype=np.uint8)\n",
    "rgb[:, 0] = 255\n",
    "vtxs_p3d = v3d.Point3d(p=vtxs, rgb=rgb)"
   ]
  },
  {
   "cell_type": "code",
   "execution_count": null,
   "metadata": {},
   "outputs": [],
   "source": [
    "# scaled 3d\n",
    "scaleT = v3d.Transform.from_matrix(np.eye(4) * scalefactor)\n",
    "tofig = []\n",
    "camscaled = cams.replace(world_from_cam=cams.world_from_cam.replace(t=cams.world_from_cam.t * scalefactor))\n",
    "sceneptsscaled = pts3d.apply_transform(scaleT)\n",
    "tofig.extend([sceneptsscaled, camscaled, T_gt @ vtxs_p3d])\n",
    "v3d.make_fig(*tofig)"
   ]
  },
  {
   "cell_type": "code",
   "execution_count": 8,
   "metadata": {},
   "outputs": [],
   "source": [
    "gtoverlaydir = resdir / \"gt-overlays\"\n",
    "gtoverlaydir.mkdir(exist_ok=True)\n",
    "for i, img in enumerate(imgs):\n",
    "    imgpath = imgpaths[i]\n",
    "    Image.fromarray(render_v3d(camscaled[i], T_gt @ vtxs_p3d, radius=4, background=img)).save(gtoverlaydir / f\"{imgpaths[i].stem}.png\")"
   ]
  },
  {
   "cell_type": "code",
   "execution_count": 9,
   "metadata": {},
   "outputs": [],
   "source": [
    "obj2cams_truth = [cam.world_from_cam.inv @ T_gt for cam in camscaled]\n",
    "gt_data_list = []\n",
    "for i, T in enumerate(obj2cams_truth):\n",
    "    truthdata = {\n",
    "        \"img_path\": str(imgpaths[i]),\n",
    "        \"img_id\": str(i),\n",
    "        \"R\": T.R.tolist(),\n",
    "        \"t\": T.t.tolist(),\n",
    "    }\n",
    "    gt_data_list.append(truthdata)\n",
    "with open(datadir / \"gt_obj2cam.json\", \"wt\") as f:\n",
    "    json.dump(gt_data_list, f)"
   ]
  }
 ],
 "metadata": {
  "kernelspec": {
   "display_name": "barrels",
   "language": "python",
   "name": "python3"
  },
  "language_info": {
   "codemirror_mode": {
    "name": "ipython",
    "version": 3
   },
   "file_extension": ".py",
   "mimetype": "text/x-python",
   "name": "python",
   "nbconvert_exporter": "python",
   "pygments_lexer": "ipython3",
   "version": "3.11.11"
  }
 },
 "nbformat": 4,
 "nbformat_minor": 2
}
