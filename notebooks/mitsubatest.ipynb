{
 "cells": [
  {
   "cell_type": "code",
   "execution_count": null,
   "metadata": {},
   "outputs": [],
   "source": [
    "import mitsuba as mi\n",
    "import matplotlib.pyplot as plt\n",
    "\n",
    "mi.set_variant(\"scalar_rgb\")\n",
    "\n",
    "scene = mi.load_file(\"myscenes/helpme-3.3.xml\")\n",
    "params = mi.traverse(scene)\n",
    "print(params)\n",
    "image = mi.render(scene, spp=256)\n",
    "\n",
    "plt.axis(\"off\")\n",
    "plt.imshow(image ** (1.0 / 2.2)); # approximate sRGB tonemapping"
   ]
  },
  {
   "cell_type": "code",
   "execution_count": null,
   "metadata": {},
   "outputs": [],
   "source": [
    "# Import the library using the alias \"mi\"\n",
    "import mitsuba as mi\n",
    "# Set the variant of the renderer\n",
    "mi.set_variant('scalar_rgb')\n",
    "# Load a scene\n",
    "scene = mi.load_dict(mi.cornell_box())\n",
    "# Render the scene\n",
    "img = mi.render(scene)\n",
    "# Write the rendered image to an EXR file\n",
    "mi.Bitmap(img).write('cbox.exr')"
   ]
  },
  {
   "cell_type": "code",
   "execution_count": null,
   "metadata": {},
   "outputs": [],
   "source": [
    "mi.variants()"
   ]
  },
  {
   "cell_type": "code",
   "execution_count": null,
   "metadata": {},
   "outputs": [],
   "source": [
    "import mitsuba as mi\n",
    "import matplotlib.pyplot as plt\n",
    "\n",
    "scene = mi.load_file(\"scenes/cbox.xml\")\n",
    "params = mi.traverse(scene)\n",
    "print(params)\n",
    "image = mi.render(scene, spp=256)\n",
    "\n",
    "plt.axis(\"off\")\n",
    "plt.imshow(image ** (1.0 / 2.2)); # approximate sRGB tonemapping"
   ]
  },
  {
   "cell_type": "code",
   "execution_count": null,
   "metadata": {},
   "outputs": [],
   "source": [
    "params.keys()"
   ]
  },
  {
   "cell_type": "code",
   "execution_count": null,
   "metadata": {},
   "outputs": [],
   "source": [
    "import drjit as dr\n",
    "import mitsuba as mi\n",
    "mi.set_variant('llvm_ad_rgb')\n",
    "\n",
    "scene = mi.load_file(\"scenes/BARREL.xml\")\n",
    "\n",
    "original_image = mi.render(scene, spp=128)\n",
    "\n",
    "import matplotlib.pyplot as plt\n",
    "plt.axis('off')\n",
    "plt.imshow(original_image ** (1.0 / 2.2))\n",
    "params = mi.traverse(scene)"
   ]
  },
  {
   "cell_type": "code",
   "execution_count": null,
   "metadata": {},
   "outputs": [],
   "source": [
    "# Give a red tint to light1 and a green tint to light2\n",
    "params['light1.intensity.value'] *= [1.5, 0.2, 0.2]\n",
    "params['light2.intensity.value'] *= [0.2, 1.5, 0.2]\n",
    "\n",
    "# Apply updates\n",
    "params.update()\n"
   ]
  },
  {
   "cell_type": "code",
   "execution_count": null,
   "metadata": {},
   "outputs": [],
   "source": [
    "modified_image = mi.render(scene, spp=128)\n",
    "fig = plt.figure(figsize=(10, 10))\n",
    "fig.add_subplot(1,2,1).imshow(original_image); plt.axis('off'); plt.title('original')\n",
    "fig.add_subplot(1,2,2).imshow(modified_image); plt.axis('off'); plt.title('modified')"
   ]
  },
  {
   "cell_type": "code",
   "execution_count": null,
   "metadata": {},
   "outputs": [],
   "source": []
  }
 ],
 "metadata": {
  "kernelspec": {
   "display_name": "mitsuba",
   "language": "python",
   "name": "python3"
  },
  "language_info": {
   "codemirror_mode": {
    "name": "ipython",
    "version": 3
   },
   "file_extension": ".py",
   "mimetype": "text/x-python",
   "name": "python",
   "nbconvert_exporter": "python",
   "pygments_lexer": "ipython3",
   "version": "3.10.12"
  },
  "orig_nbformat": 4
 },
 "nbformat": 4,
 "nbformat_minor": 2
}
